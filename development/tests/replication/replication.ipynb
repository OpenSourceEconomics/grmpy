{
 "cells": [
  {
   "cell_type": "markdown",
   "metadata": {},
   "source": [
    "# Explorations\n",
    "\n",
    "We show how to reproduce key results from:\n",
    "    \n",
    "    * Carneiro, P., Heckman, J. J, and Vytlacil, E. (2011). Estimating Marginal Returns to education\n",
    "    \n",
    "using the **grmpy** package. They provide their own replication material on the AER website."
   ]
  },
  {
   "cell_type": "code",
   "execution_count": 1,
   "metadata": {},
   "outputs": [],
   "source": [
    "from run import plot_est_mte\n",
    "import pandas as pd\n",
    "import grmpy"
   ]
  },
  {
   "cell_type": "code",
   "execution_count": 3,
   "metadata": {},
   "outputs": [],
   "source": [
    "def process_data(data_frame, output_file):\n",
    "    \"\"\"This function adds squared and interaction terms to the Cainero data set.\"\"\"\n",
    "    # Delete redundant columns\\n\",\n",
    "    for key_ in ['newid', 'caseid']:\n",
    "        del df[key_]\n",
    "\n",
    "    # Add squared terms\n",
    "    for key_ in ['mhgc', 'cafqt', 'avurate','lurate_17', 'numsibs', 'lavlocwage17']:    \n",
    "        str_ = key_ + 'sq'\n",
    "        df[str_] = df[key_]**2\n",
    "        \n",
    "    # Add interaction terms\n",
    "    for j in ['pub4','lwage5_17' , 'lurate_17', 'tuit4c']:\n",
    "        for i in ['cafqt', 'mhgc', 'numsibs']:\n",
    "            df[j + i] = df[j] * df[i] \n",
    "\n",
    "    df.to_pickle(output_file +  '.pkl')"
   ]
  },
  {
   "cell_type": "markdown",
   "metadata": {},
   "source": [
    "## Data Preparation\n",
    "\n",
    "We do not have access to the exact dataset due to the confidentiality of the geographic information. However, we can create a mock dataset and merge the two datasets at random."
   ]
  },
  {
   "cell_type": "code",
   "execution_count": 4,
   "metadata": {},
   "outputs": [],
   "source": [
    "basic = pd.read_stata('basicvariables.dta')\n",
    "local = pd.read_stata('localvariables.dta') \n",
    "df = pd.concat([basic, local], axis = 1)\n",
    "process_data(df,'aer-replication-mock')"
   ]
  },
  {
   "cell_type": "markdown",
   "metadata": {},
   "source": [
    "## Estimation\n"
   ]
  },
  {
   "cell_type": "markdown",
   "metadata": {},
   "source": [
    "In the next step we replicate the estimation results. For further information about the exact specification see the initialization file \"replication.grmpy.ini\"."
   ]
  },
  {
   "cell_type": "code",
   "execution_count": 5,
   "metadata": {},
   "outputs": [],
   "source": [
    "rslt = grmpy.estimate('replication.grmpy.ini')"
   ]
  },
  {
   "cell_type": "markdown",
   "metadata": {},
   "source": [
    "## MTE Plot"
   ]
  },
  {
   "cell_type": "markdown",
   "metadata": {},
   "source": [
    "Plot the MTE calculated from the estimated results."
   ]
  },
  {
   "cell_type": "code",
   "execution_count": 6,
   "metadata": {},
   "outputs": [
    {
     "data": {
      "image/png": "[encoded data removed]",
      "text/plain": [
       "<Figure size 432x288 with 1 Axes>"
      ]
     },
     "metadata": {},
     "output_type": "display_data"
    }
   ],
   "source": [
    "plot_est_mte(rslt, df)"
   ]
  },
  {
   "cell_type": "code",
   "execution_count": null,
   "metadata": {},
   "outputs": [],
   "source": []
  }
 ],
 "metadata": {
  "kernelspec": {
   "display_name": "Python [conda env:replication]",
   "language": "python",
   "name": "conda-env-replication-py"
  },
  "language_info": {
   "codemirror_mode": {
    "name": "ipython",
    "version": 3
   },
   "file_extension": ".py",
   "mimetype": "text/x-python",
   "name": "python",
   "nbconvert_exporter": "python",
   "pygments_lexer": "ipython3",
   "version": "3.6.5"
  }
 },
 "nbformat": 4,
 "nbformat_minor": 1
}
