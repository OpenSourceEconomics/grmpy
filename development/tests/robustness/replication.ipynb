{
 "cells": [
  {
   "cell_type": "markdown",
   "metadata": {},
   "source": [
    "# Explorations\n",
    "\n",
    "We show how to reproduce key results from:\n",
    "    \n",
    "    * Carneiro, P., Heckman, J. J, and Vytlacil, E. (2011). Estimating Marginal Returns to education\n",
    "    \n",
    "using the **grmpy** pacckage. They provide their own replication material on the AER website."
   ]
  },
  {
   "cell_type": "markdown",
   "metadata": {},
   "source": [
    "## Data Preparation\n",
    "\n",
    "We do not have access to the exact dataset due to the confidentiality of the geographic information. However, we can create a mock dataset and merge the two datasets at random."
   ]
  },
  {
   "cell_type": "code",
   "execution_count": null,
   "metadata": {},
   "outputs": [],
   "source": [
    "import pandas as pd\n",
    "import grmpy"
   ]
  },
  {
   "cell_type": "code",
   "execution_count": null,
   "metadata": {},
   "outputs": [],
   "source": [
    "basic = pd.read_stata('basicvariables.dta')\n",
    "local = pd.read_stata('localvariables.dta') \n",
    "df = pd.concat([basic, local], axis = 1)\n",
    "\n",
    "# Delete redundant columns\n",
    "for key_ in ['newid', 'caseid']:\n",
    "    del df[key_]\n",
    "\n",
    "# Add squared terms\n",
    "for key_ in ['mhgc', 'cafqt', 'avurate','lurate_17', 'numsibs', 'lavlocwage17']:    \n",
    "    str_ = key_ + 'sq'\n",
    "    df[str_] = df[key_]**2\n",
    "    \n",
    "for j in ['pub4','lwage5_17' , 'lurate_17', 'tuit4c']:\n",
    "    for i in ['cafqt', 'mhgc', 'numsibs']:\n",
    "        df[j + i] = df[j] * df[i] \n",
    "\n",
    "df.to_pickle('aer-replication-mock.pkl')\n"
   ]
  },
  {
   "cell_type": "markdown",
   "metadata": {},
   "source": [
    "## Estimation\n",
    "\n",
    "What needs to be done?\n",
    "\n",
    "* Create an initialization file that reflects the estimation setup in the paper.\n",
    "* Run estimation using **grmpy** package.\n"
   ]
  },
  {
   "cell_type": "code",
   "execution_count": null,
   "metadata": {},
   "outputs": [],
   "source": [
    "grmpy.estimate('replication.grmpy.ini')"
   ]
  },
  {
   "cell_type": "markdown",
   "metadata": {},
   "source": [
    "* Reproduce Figure 1 from the original paper. Even though we only create a mock dataset, our results will be frightlingly close. Thus, most of the result are driven by the observable cost shifters and not the instruments."
   ]
  },
  {
   "cell_type": "markdown",
   "metadata": {
    "collapsed": true
   },
   "source": [
    "## Further Remarks\n",
    "\n",
    "* This is an opportunity to experience the package from the user perspective. So, please implement (or at least write-down) all improvements to the package that cross your mind when using it. This inlcudes, in particular, updates to the documentation.\n"
   ]
  }
 ],
 "metadata": {
  "kernelspec": {
   "display_name": "Python [conda env:replication]",
   "language": "python",
   "name": "conda-env-replication-py"
  },
  "language_info": {
   "codemirror_mode": {
    "name": "ipython",
    "version": 3
   },
   "file_extension": ".py",
   "mimetype": "text/x-python",
   "name": "python",
   "nbconvert_exporter": "python",
   "pygments_lexer": "ipython3",
   "version": "3.6.5"
  }
 },
 "nbformat": 4,
 "nbformat_minor": 1
}
