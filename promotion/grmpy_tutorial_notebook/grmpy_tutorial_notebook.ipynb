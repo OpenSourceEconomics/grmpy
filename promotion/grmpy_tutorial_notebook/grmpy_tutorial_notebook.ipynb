{
 "cells": [
  {
   "cell_type": "markdown",
   "metadata": {},
   "source": [
    "\n",
    "# The *grmpy*  package \n",
    "This notebook demonstrates the current capabilities of the *grmpy* package. *grmpy* is an open source package for the programming language python that enables researchers to simulate datasets andestimate parameters using already existing data within the structure of the generalized Roy model. Currently the package serves as a teaching tool for a course on the econometrics of policy evaluation at the University of Bonn. The corresponding lecture materials can be found on [GitHub](https://github.com/HumanCapitalAnalysis/econometrics).  Morover it is thought of as a promotion for the conceptual framework as well as a showcase for basic software engineering practices.\n",
    "\n",
    "For a more detailed overview on the economic background as well as the installation routine feel free to take a look on the [online documentation](https://grmpy.readthedocs.io/en/develop/).\n",
    "\n",
    "The notebook itself is divided in three parts. Firstly we provide a basic outline on how to use the package and introduce the core features. Next we will show that the results obtained by the package's estimation process withstand a critical examination by comparing its performance in the presence of essential heterogeneity with several other estimation approaches like Ordinary Least Squares and Instrumental variables. We conclude by conducting a replication of results from   \n",
    "\n",
    "Carneiro, P., Heckman, J. J., & Vytlacil, E. J. (2011). [Estimating marginal returns to education.](https://pubs.aeaweb.org/doi/pdfplus/10.1257/aer.101.6.2754)\n",
    "*American Economic Review, 101*(6), 2754-81.\n"
   ]
  },
  {
   "cell_type": "markdown",
   "metadata": {},
   "source": [
    "# The Framework"
   ]
  },
  {
   "cell_type": "markdown",
   "metadata": {},
   "source": [
    "As mentioned before the package makes use of the normal-linear-in-parameters version generalized Roy model. In addition we assume that the unobservable terms $\\{U_1, U_0, V\\}$ are normally distributed according to the covariance matrix $\\Sigma$. The following set of equations characterize the underlying model:\n",
    "\n",
    "\\begin{align*}\n",
    " &\\textbf{Potential Outcomes} & & \\textbf{Choice}  &\\\\\n",
    " & Y_1 = \\beta_1 X + U_{1} &  &D_i = \\mathbf{1}\\{\\Phi(\\gamma Z) > u_D\\} &\\\\\n",
    " & Y_0 = \\beta_0 X + U_{0} &  & \\text{with $u_D = \\Phi(V)$}  &\\\\\n",
    "&&&&\\\\\n",
    "&\\textbf{Distributional Characteristics}&&&\\\\\n",
    "&\\{U_{1}, U_{0}, V\\} \\sim \\mathcal{N}\\left(0, \\Sigma\\right)&&\\Sigma =  \\begin{bmatrix}\n",
    "    \\sigma_1^{2} & \\sigma_{1,0} & \\sigma_{1,V} \\\\\n",
    "    \\sigma_{1,0} & \\sigma_0^{2} & \\sigma_{0,V} \\\\\n",
    "    \\sigma_{1,V} & \\sigma_{0,V} & \\sigma_V^{2} \\\\\n",
    "  \\end{bmatrix}&\\\\\n",
    "&&&&\\\\\n",
    "& \\textbf{Observed Outcome} &&&\\\\\n",
    "& Y = D Y_1 + (1-D) Y_0 &&&\n",
    "\\end{align*}\n"
   ]
  },
  {
   "cell_type": "markdown",
   "metadata": {},
   "source": [
    "# Preliminaries\n",
    "\n",
    "The first step consists of some style and import improving settings."
   ]
  },
  {
   "cell_type": "code",
   "execution_count": 2,
   "metadata": {},
   "outputs": [
    {
     "data": {
      "text/html": [
       "<style>.container { width:90% !important; }</style>"
      ],
      "text/plain": [
       "<IPython.core.display.HTML object>"
      ]
     },
     "metadata": {},
     "output_type": "display_data"
    },
    {
     "name": "stdout",
     "output_type": "stream",
     "text": [
      "The snakeviz extension is already loaded. To reload it, use:\n",
      "  %reload_ext snakeviz\n"
     ]
    }
   ],
   "source": [
    "from IPython.core.display import display, HTML\n",
    "display(HTML(\"<style>.container { width:90% !important; }</style>\"))\n",
    "%load_ext autoreload\n",
    "%autoreload 2\n",
    "%load_ext snakeviz\n"
   ]
  },
  {
   "cell_type": "markdown",
   "metadata": {},
   "source": [
    "Before we can start with the application examples we have to import several libaries that we rely on during this presentation."
   ]
  },
  {
   "cell_type": "code",
   "execution_count": 3,
   "metadata": {},
   "outputs": [],
   "source": [
    "import matplotlib.pyplot as plt\n",
    "import statsmodels.api as sm\n",
    "import pandas as pd\n",
    "import numpy as np\n",
    "import json\n",
    "\n",
    "import grmpy"
   ]
  },
  {
   "cell_type": "markdown",
   "metadata": {},
   "source": [
    "In addition we will import some custom functions for plotting several figures of interest as well as some data management purposes. The code is provided in the auxiliary.py file."
   ]
  },
  {
   "cell_type": "code",
   "execution_count": 7,
   "metadata": {},
   "outputs": [],
   "source": [
    "from auxiliary import plot_joint_distribution_unobservables\n",
    "from auxiliary import plot_joint_distribution_potential\n",
    "from auxiliary import plot_marginal_effects\n",
    "from auxiliary import process_data\n",
    "from auxiliary import plot_est_mte\n",
    "from auxiliary import monte_carlo\n",
    "from auxiliary import effects"
   ]
  },
  {
   "cell_type": "markdown",
   "metadata": {},
   "source": [
    "# Part I - Introduction"
   ]
  },
  {
   "cell_type": "markdown",
   "metadata": {},
   "source": [
    "This part provides some basic information about the general application of the package's core methods. "
   ]
  },
  {
   "cell_type": "markdown",
   "metadata": {},
   "source": [
    "## The initialization file\n",
    "\n",
    "Currently the package has two core features. The first one is the simulation process. It enables users to simulate data sets along a pre-specified parameterization. The data generating process follows the structure of the previously introduced parametric Roy model framework. Therefore users specify their desired parametrization in an initialization file which allows altering any aspects of the model according to their preferences. The ability to estimate parameters on already existing data sets is the second core feature. As before the initialization file is the starting point for the estimation process. \n",
    "\n",
    "The initialization file is structured as follows:\n",
    "\n",
    "* **Simulation**: The simulation section contains information for the estimation process. For instance users are able to change the number of individuals for which the program runs a simulation through setting the agents option to a specific value.\n",
    "\n",
    "\n",
    "* **Estimation**: Accordingly information regarding the estimation process are stored in the estimation section. Here, users can set the type of optimizer which should be used for running the process as well as the maximum number of iterations that the process is allowed to perform. In addition the flags *dependent* and *indicator* determine which variable of the input data frame is seen as the dependent variable and the treatment indicator variable, respectively.\n",
    "\n",
    "\n",
    "* **Treated, Untreated, Choice**: These sections are essential for both methods. They contain the parameterization which is used for the simulation process. Additionally the second column indicates the variable labels well as for the simulated data set. This column is also essential for the estimation process because it will only include variables that are pre-specified in a specific section for the following optimization.\n",
    "\n",
    "\n",
    "* **Dist**: The Dist section determines the distributional characteristics of the unobservable variables. Therefore the section reports the upper triangle of the covariance matrix of $(U_1, U_0,V)$.\n",
    "\n",
    "\n",
    "* **SCIPY-BFGS/SCIPY-POWELL**: The SCIPY-related sections contain options for the relevant optimization algorithms."
   ]
  },
  {
   "cell_type": "code",
   "execution_count": 4,
   "metadata": {},
   "outputs": [
    {
     "name": "stdout",
     "output_type": "stream",
     "text": [
      "Overwriting files/tutorial.grmpy.yml\n"
     ]
    }
   ],
   "source": [
    "%%file files/tutorial.grmpy.yml\n",
    "---\n",
    "SIMULATION:\n",
    "    agents: 10000\n",
    "    seed: 2356\n",
    "    source: data\n",
    "ESTIMATION:\n",
    "    file: data.grmpy.txt\n",
    "    output_file: output/est.grmpy.info\n",
    "    optimizer: SCIPY-BFGS\n",
    "    start: auto\n",
    "    maxiter: 6383\n",
    "    agents: 165\n",
    "    dependent: Y\n",
    "    indicator: D\n",
    "    comparison: 1\n",
    "    print_output: 0\n",
    "TREATED:\n",
    "    params:\n",
    "    - 1.0\n",
    "    - 0.555\n",
    "    order:\n",
    "    - const\n",
    "    - X2\n",
    "UNTREATED:\n",
    "    params:\n",
    "    - 0.5\n",
    "    - 0.25\n",
    "    order:\n",
    "    - const\n",
    "    - X2\n",
    "CHOICE:\n",
    "    params:\n",
    "    - 0.378\n",
    "    - -0.39\n",
    "    order:\n",
    "    - const\n",
    "    - X3\n",
    "DIST:\n",
    "    params:\n",
    "    - 0.1\n",
    "    - 0.0\n",
    "    - 0.0\n",
    "    - 0.1\n",
    "    - 0.0\n",
    "    - 1.0\n",
    "VARTYPES:\n",
    "    const: nonbinary\n",
    "    X2: nonbinary\n",
    "    X3: nonbinary\n",
    "SCIPY-BFGS:\n",
    "    gtol: 1.0e-05\n",
    "    eps: 1.4901161193847655e-08\n",
    "SCIPY-POWELL:\n",
    "    xtol: 9.147777614048603e-05\n",
    "    ftol: 9.749582129043358e-05"
   ]
  },
  {
   "cell_type": "markdown",
   "metadata": {},
   "source": [
    "## The Simulation Process"
   ]
  },
  {
   "cell_type": "markdown",
   "metadata": {},
   "source": [
    "For simulating a dataset we only have to provide the package with the related inititalization file."
   ]
  },
  {
   "cell_type": "code",
   "execution_count": 5,
   "metadata": {
    "scrolled": true
   },
   "outputs": [
    {
     "data": {
      "text/html": [
       "<div>\n",
       "<style scoped>\n",
       "    .dataframe tbody tr th:only-of-type {\n",
       "        vertical-align: middle;\n",
       "    }\n",
       "\n",
       "    .dataframe tbody tr th {\n",
       "        vertical-align: top;\n",
       "    }\n",
       "\n",
       "    .dataframe thead th {\n",
       "        text-align: right;\n",
       "    }\n",
       "</style>\n",
       "<table border=\"1\" class=\"dataframe\">\n",
       "  <thead>\n",
       "    <tr style=\"text-align: right;\">\n",
       "      <th></th>\n",
       "      <th>const</th>\n",
       "      <th>X2</th>\n",
       "      <th>X3</th>\n",
       "      <th>U1</th>\n",
       "      <th>U0</th>\n",
       "      <th>V</th>\n",
       "      <th>Y1</th>\n",
       "      <th>Y0</th>\n",
       "      <th>D</th>\n",
       "      <th>Y</th>\n",
       "    </tr>\n",
       "  </thead>\n",
       "  <tbody>\n",
       "    <tr>\n",
       "      <th>0</th>\n",
       "      <td>1.0</td>\n",
       "      <td>-0.014710</td>\n",
       "      <td>0.023439</td>\n",
       "      <td>0.002676</td>\n",
       "      <td>0.061452</td>\n",
       "      <td>0.767310</td>\n",
       "      <td>0.994512</td>\n",
       "      <td>0.557775</td>\n",
       "      <td>0.0</td>\n",
       "      <td>0.557775</td>\n",
       "    </tr>\n",
       "    <tr>\n",
       "      <th>1</th>\n",
       "      <td>1.0</td>\n",
       "      <td>1.941447</td>\n",
       "      <td>-1.375891</td>\n",
       "      <td>0.087087</td>\n",
       "      <td>0.066451</td>\n",
       "      <td>-0.567979</td>\n",
       "      <td>2.164590</td>\n",
       "      <td>1.051813</td>\n",
       "      <td>1.0</td>\n",
       "      <td>2.164590</td>\n",
       "    </tr>\n",
       "    <tr>\n",
       "      <th>2</th>\n",
       "      <td>1.0</td>\n",
       "      <td>-0.220668</td>\n",
       "      <td>1.555453</td>\n",
       "      <td>0.078557</td>\n",
       "      <td>0.008140</td>\n",
       "      <td>-0.307828</td>\n",
       "      <td>0.956087</td>\n",
       "      <td>0.452973</td>\n",
       "      <td>1.0</td>\n",
       "      <td>0.956087</td>\n",
       "    </tr>\n",
       "    <tr>\n",
       "      <th>3</th>\n",
       "      <td>1.0</td>\n",
       "      <td>0.531899</td>\n",
       "      <td>0.192161</td>\n",
       "      <td>-0.005574</td>\n",
       "      <td>0.055052</td>\n",
       "      <td>-1.129202</td>\n",
       "      <td>1.289630</td>\n",
       "      <td>0.688027</td>\n",
       "      <td>1.0</td>\n",
       "      <td>1.289630</td>\n",
       "    </tr>\n",
       "    <tr>\n",
       "      <th>4</th>\n",
       "      <td>1.0</td>\n",
       "      <td>-0.295161</td>\n",
       "      <td>1.663835</td>\n",
       "      <td>-0.111534</td>\n",
       "      <td>0.077755</td>\n",
       "      <td>-0.024787</td>\n",
       "      <td>0.724652</td>\n",
       "      <td>0.503965</td>\n",
       "      <td>0.0</td>\n",
       "      <td>0.503965</td>\n",
       "    </tr>\n",
       "    <tr>\n",
       "      <th>5</th>\n",
       "      <td>1.0</td>\n",
       "      <td>2.030613</td>\n",
       "      <td>0.845409</td>\n",
       "      <td>-0.096886</td>\n",
       "      <td>-0.086180</td>\n",
       "      <td>0.117710</td>\n",
       "      <td>2.030104</td>\n",
       "      <td>0.921473</td>\n",
       "      <td>0.0</td>\n",
       "      <td>0.921473</td>\n",
       "    </tr>\n",
       "    <tr>\n",
       "      <th>6</th>\n",
       "      <td>1.0</td>\n",
       "      <td>-0.189934</td>\n",
       "      <td>-0.830659</td>\n",
       "      <td>0.019401</td>\n",
       "      <td>-0.045266</td>\n",
       "      <td>-0.037156</td>\n",
       "      <td>0.913988</td>\n",
       "      <td>0.407250</td>\n",
       "      <td>1.0</td>\n",
       "      <td>0.913988</td>\n",
       "    </tr>\n",
       "    <tr>\n",
       "      <th>7</th>\n",
       "      <td>1.0</td>\n",
       "      <td>0.590819</td>\n",
       "      <td>1.731056</td>\n",
       "      <td>-0.087072</td>\n",
       "      <td>0.032617</td>\n",
       "      <td>0.719759</td>\n",
       "      <td>1.240833</td>\n",
       "      <td>0.680322</td>\n",
       "      <td>0.0</td>\n",
       "      <td>0.680322</td>\n",
       "    </tr>\n",
       "    <tr>\n",
       "      <th>8</th>\n",
       "      <td>1.0</td>\n",
       "      <td>0.790466</td>\n",
       "      <td>1.133287</td>\n",
       "      <td>0.049938</td>\n",
       "      <td>-0.200924</td>\n",
       "      <td>0.749826</td>\n",
       "      <td>1.488647</td>\n",
       "      <td>0.496692</td>\n",
       "      <td>0.0</td>\n",
       "      <td>0.496692</td>\n",
       "    </tr>\n",
       "    <tr>\n",
       "      <th>9</th>\n",
       "      <td>1.0</td>\n",
       "      <td>-1.378429</td>\n",
       "      <td>0.020067</td>\n",
       "      <td>0.151613</td>\n",
       "      <td>0.015832</td>\n",
       "      <td>-1.119519</td>\n",
       "      <td>0.386585</td>\n",
       "      <td>0.171225</td>\n",
       "      <td>1.0</td>\n",
       "      <td>0.386585</td>\n",
       "    </tr>\n",
       "    <tr>\n",
       "      <th>10</th>\n",
       "      <td>1.0</td>\n",
       "      <td>-0.089817</td>\n",
       "      <td>-0.279000</td>\n",
       "      <td>0.062335</td>\n",
       "      <td>-0.053459</td>\n",
       "      <td>0.049270</td>\n",
       "      <td>1.012487</td>\n",
       "      <td>0.424087</td>\n",
       "      <td>1.0</td>\n",
       "      <td>1.012487</td>\n",
       "    </tr>\n",
       "    <tr>\n",
       "      <th>11</th>\n",
       "      <td>1.0</td>\n",
       "      <td>0.212042</td>\n",
       "      <td>2.217055</td>\n",
       "      <td>0.009479</td>\n",
       "      <td>-0.024719</td>\n",
       "      <td>0.391382</td>\n",
       "      <td>1.127162</td>\n",
       "      <td>0.528291</td>\n",
       "      <td>0.0</td>\n",
       "      <td>0.528291</td>\n",
       "    </tr>\n",
       "    <tr>\n",
       "      <th>12</th>\n",
       "      <td>1.0</td>\n",
       "      <td>0.140421</td>\n",
       "      <td>-0.949804</td>\n",
       "      <td>0.050072</td>\n",
       "      <td>0.002839</td>\n",
       "      <td>0.658555</td>\n",
       "      <td>1.128005</td>\n",
       "      <td>0.537945</td>\n",
       "      <td>1.0</td>\n",
       "      <td>1.128005</td>\n",
       "    </tr>\n",
       "    <tr>\n",
       "      <th>13</th>\n",
       "      <td>1.0</td>\n",
       "      <td>-0.152488</td>\n",
       "      <td>0.997728</td>\n",
       "      <td>0.191663</td>\n",
       "      <td>-0.072238</td>\n",
       "      <td>-0.608002</td>\n",
       "      <td>1.107032</td>\n",
       "      <td>0.389639</td>\n",
       "      <td>1.0</td>\n",
       "      <td>1.107032</td>\n",
       "    </tr>\n",
       "    <tr>\n",
       "      <th>14</th>\n",
       "      <td>1.0</td>\n",
       "      <td>-0.008147</td>\n",
       "      <td>0.812770</td>\n",
       "      <td>-0.060911</td>\n",
       "      <td>0.025155</td>\n",
       "      <td>0.732511</td>\n",
       "      <td>0.934567</td>\n",
       "      <td>0.523118</td>\n",
       "      <td>0.0</td>\n",
       "      <td>0.523118</td>\n",
       "    </tr>\n",
       "    <tr>\n",
       "      <th>15</th>\n",
       "      <td>1.0</td>\n",
       "      <td>0.962076</td>\n",
       "      <td>-1.210027</td>\n",
       "      <td>0.260456</td>\n",
       "      <td>0.008918</td>\n",
       "      <td>-1.209136</td>\n",
       "      <td>1.794408</td>\n",
       "      <td>0.749437</td>\n",
       "      <td>1.0</td>\n",
       "      <td>1.794408</td>\n",
       "    </tr>\n",
       "    <tr>\n",
       "      <th>16</th>\n",
       "      <td>1.0</td>\n",
       "      <td>-2.212943</td>\n",
       "      <td>0.613103</td>\n",
       "      <td>0.002101</td>\n",
       "      <td>0.084170</td>\n",
       "      <td>0.483983</td>\n",
       "      <td>-0.226082</td>\n",
       "      <td>0.030934</td>\n",
       "      <td>0.0</td>\n",
       "      <td>0.030934</td>\n",
       "    </tr>\n",
       "    <tr>\n",
       "      <th>17</th>\n",
       "      <td>1.0</td>\n",
       "      <td>-0.243372</td>\n",
       "      <td>-0.256826</td>\n",
       "      <td>0.065807</td>\n",
       "      <td>-0.007584</td>\n",
       "      <td>0.906569</td>\n",
       "      <td>0.930736</td>\n",
       "      <td>0.431573</td>\n",
       "      <td>0.0</td>\n",
       "      <td>0.431573</td>\n",
       "    </tr>\n",
       "    <tr>\n",
       "      <th>18</th>\n",
       "      <td>1.0</td>\n",
       "      <td>0.882084</td>\n",
       "      <td>-0.619958</td>\n",
       "      <td>0.059393</td>\n",
       "      <td>-0.044658</td>\n",
       "      <td>-1.719871</td>\n",
       "      <td>1.548950</td>\n",
       "      <td>0.675863</td>\n",
       "      <td>1.0</td>\n",
       "      <td>1.548950</td>\n",
       "    </tr>\n",
       "    <tr>\n",
       "      <th>19</th>\n",
       "      <td>1.0</td>\n",
       "      <td>0.363549</td>\n",
       "      <td>1.137413</td>\n",
       "      <td>0.150281</td>\n",
       "      <td>0.109781</td>\n",
       "      <td>-0.421398</td>\n",
       "      <td>1.352051</td>\n",
       "      <td>0.700668</td>\n",
       "      <td>1.0</td>\n",
       "      <td>1.352051</td>\n",
       "    </tr>\n",
       "  </tbody>\n",
       "</table>\n",
       "</div>"
      ],
      "text/plain": [
       "    const        X2        X3        U1        U0         V        Y1  \\\n",
       "0     1.0 -0.014710  0.023439  0.002676  0.061452  0.767310  0.994512   \n",
       "1     1.0  1.941447 -1.375891  0.087087  0.066451 -0.567979  2.164590   \n",
       "2     1.0 -0.220668  1.555453  0.078557  0.008140 -0.307828  0.956087   \n",
       "3     1.0  0.531899  0.192161 -0.005574  0.055052 -1.129202  1.289630   \n",
       "4     1.0 -0.295161  1.663835 -0.111534  0.077755 -0.024787  0.724652   \n",
       "5     1.0  2.030613  0.845409 -0.096886 -0.086180  0.117710  2.030104   \n",
       "6     1.0 -0.189934 -0.830659  0.019401 -0.045266 -0.037156  0.913988   \n",
       "7     1.0  0.590819  1.731056 -0.087072  0.032617  0.719759  1.240833   \n",
       "8     1.0  0.790466  1.133287  0.049938 -0.200924  0.749826  1.488647   \n",
       "9     1.0 -1.378429  0.020067  0.151613  0.015832 -1.119519  0.386585   \n",
       "10    1.0 -0.089817 -0.279000  0.062335 -0.053459  0.049270  1.012487   \n",
       "11    1.0  0.212042  2.217055  0.009479 -0.024719  0.391382  1.127162   \n",
       "12    1.0  0.140421 -0.949804  0.050072  0.002839  0.658555  1.128005   \n",
       "13    1.0 -0.152488  0.997728  0.191663 -0.072238 -0.608002  1.107032   \n",
       "14    1.0 -0.008147  0.812770 -0.060911  0.025155  0.732511  0.934567   \n",
       "15    1.0  0.962076 -1.210027  0.260456  0.008918 -1.209136  1.794408   \n",
       "16    1.0 -2.212943  0.613103  0.002101  0.084170  0.483983 -0.226082   \n",
       "17    1.0 -0.243372 -0.256826  0.065807 -0.007584  0.906569  0.930736   \n",
       "18    1.0  0.882084 -0.619958  0.059393 -0.044658 -1.719871  1.548950   \n",
       "19    1.0  0.363549  1.137413  0.150281  0.109781 -0.421398  1.352051   \n",
       "\n",
       "          Y0    D         Y  \n",
       "0   0.557775  0.0  0.557775  \n",
       "1   1.051813  1.0  2.164590  \n",
       "2   0.452973  1.0  0.956087  \n",
       "3   0.688027  1.0  1.289630  \n",
       "4   0.503965  0.0  0.503965  \n",
       "5   0.921473  0.0  0.921473  \n",
       "6   0.407250  1.0  0.913988  \n",
       "7   0.680322  0.0  0.680322  \n",
       "8   0.496692  0.0  0.496692  \n",
       "9   0.171225  1.0  0.386585  \n",
       "10  0.424087  1.0  1.012487  \n",
       "11  0.528291  0.0  0.528291  \n",
       "12  0.537945  1.0  1.128005  \n",
       "13  0.389639  1.0  1.107032  \n",
       "14  0.523118  0.0  0.523118  \n",
       "15  0.749437  1.0  1.794408  \n",
       "16  0.030934  0.0  0.030934  \n",
       "17  0.431573  0.0  0.431573  \n",
       "18  0.675863  1.0  1.548950  \n",
       "19  0.700668  1.0  1.352051  "
      ]
     },
     "execution_count": 5,
     "metadata": {},
     "output_type": "execute_result"
    }
   ],
   "source": [
    "data = grmpy.simulate('files/tutorial.grmpy.yml')\n",
    "data.head(20)"
   ]
  },
  {
   "cell_type": "markdown",
   "metadata": {},
   "source": [
    "The simulation process generates an info file that provides additional information about the distribution of outcomes and effects, respectively. Additionally it contains the criterion function value, information about the corresponding marginal treatment effects as well as the paramterization."
   ]
  },
  {
   "cell_type": "code",
   "execution_count": 6,
   "metadata": {},
   "outputs": [
    {
     "name": "stdout",
     "output_type": "stream",
     "text": [
      "\r\n",
      "\r\n",
      " Number of Observations \r\n",
      "\r\n",
      "                            Count\r\n",
      "\r\n",
      "  All                       10000\r\n",
      "  Treated                    6391\r\n",
      "  Untreated                  3609\r\n",
      "\r\n",
      "\r\n",
      " Distribution of Outcomes\r\n",
      "\r\n",
      "                             Mean             Std-Dev.                  25%                  50%                  75%\r\n",
      "\r\n",
      "  All                      0.8196               0.5328               0.4401               0.7467               1.1652\r\n",
      "  Treated                  1.0018               0.5580               0.6305               1.0059               1.3721\r\n",
      "  Untreated                0.4968               0.2689               0.3218               0.5001               0.6782\r\n",
      "\r\n",
      "\r\n",
      " Distribution of Effects\r\n",
      "\r\n",
      "                             Mean             Std-Dev.                  25%                  50%                  75%\r\n",
      "\r\n",
      "  All                      0.4998               0.3340               0.2739               0.4974               0.7208\r\n",
      "  Treated                  0.5007               0.3354               0.2731               0.5016               0.7233\r\n",
      "  Untreated                0.4982               0.3315               0.2761               0.4905               0.7177\r\n",
      "\r\n",
      "\r\n",
      " Criterion Function \r\n",
      "\r\n",
      "  Value           -0.270418786930      \r\n",
      "\r\n",
      "\r\n",
      "\r\n",
      " Marginal Treatment Effect \r\n",
      "\r\n",
      "    Quantile                Value\r\n",
      "\r\n",
      "          1%               0.5006\r\n",
      "          5%               0.5006\r\n",
      "         10%               0.5006\r\n",
      "         15%               0.5006\r\n",
      "         20%               0.5006\r\n",
      "         25%               0.5006\r\n",
      "         30%               0.5006\r\n",
      "         35%               0.5006\r\n",
      "         40%               0.5006\r\n",
      "         45%               0.5006\r\n",
      "         50%               0.5006\r\n",
      "         55%               0.5006\r\n",
      "         60%               0.5006\r\n",
      "         65%               0.5006\r\n",
      "         70%               0.5006\r\n",
      "         75%               0.5006\r\n",
      "         80%               0.5006\r\n",
      "         85%               0.5006\r\n",
      "         90%               0.5006\r\n",
      "         95%               0.5006\r\n",
      "         99%               0.5006\r\n",
      "\r\n",
      "\r\n",
      " Parameterization \r\n",
      "\r\n",
      " Section       Identifier           Coef\r\n",
      "\r\n",
      "  TREATED    \r\n",
      "               const                1.0000\r\n",
      "               X2                   0.5550\r\n",
      "\r\n",
      "  UNTREATED  \r\n",
      "               const                0.5000\r\n",
      "               X2                   0.2500\r\n",
      "\r\n",
      "  CHOICE     \r\n",
      "               const                0.3780\r\n",
      "               X3                  -0.3900\r\n",
      "\r\n",
      "  DIST       \r\n",
      "               sigma1               0.1000\r\n",
      "               sigma10              0.0000\r\n",
      "               sigma1v              0.0000\r\n",
      "               sigma0               0.1000\r\n",
      "               sigma0v              0.0000\r\n",
      "               sigmaV               1.0000\r\n"
     ]
    }
   ],
   "source": [
    "!cat \"data.grmpy.info\""
   ]
  },
  {
   "cell_type": "markdown",
   "metadata": {},
   "source": [
    "The generated data set is specififed so that the treatment selection process is not affected by essential heterogeneity. Therefore the conventional effects are nearly identical. "
   ]
  },
  {
   "cell_type": "code",
   "execution_count": 7,
   "metadata": {},
   "outputs": [
    {
     "name": "stdout",
     "output_type": "stream",
     "text": [
      "ATE: 0.49983004856551627\n",
      "TT:  0.500730693488769\n",
      "TUT: 0.4982351409167191 \n",
      "\n"
     ]
    },
    {
     "data": {
      "image/png": "[encoded data removed]",
      "text/plain": [
       "<Figure size 1080x720 with 1 Axes>"
      ]
     },
     "metadata": {
      "needs_background": "light"
     },
     "output_type": "display_data"
    }
   ],
   "source": [
    "effects(data)"
   ]
  },
  {
   "cell_type": "markdown",
   "metadata": {},
   "source": [
    "### Essential Heterogeneity\n",
    "For providing an example on how essential heterogeneity biases the results obtained by naive comparison between treated and untreated individuals, we alter the initialization file. Specifically we will introduce correlation between the unobservable terms. This leads to the situation where individuals select into treatment based on unobservable gains. Therefore the treatment decision $D$ is no longer independent from the outcomes $Y_1$ and $Y_0$.\n",
    "\n",
    "\\begin{align}\n",
    "Y_1,Y_0\\;\\; {\\perp\\!\\!\\!\\!\\!\\!\\diagup\\!\\!\\!\\!\\!\\!\\!\\perp} \\;\\; D\n",
    "\\end{align}\n",
    "\n",
    "Unlike in the absence of essential heterogeneity individuals who select themselves into treatment differ from\n",
    "individuals who do not with respect to their unobservable characteristics. From this follows that\n",
    "\n",
    "\\begin{align}\n",
    "B^{ATE} \\neq B^{TT} \\neq B^{TUT}\n",
    "\\end{align}"
   ]
  },
  {
   "cell_type": "code",
   "execution_count": 8,
   "metadata": {},
   "outputs": [
    {
     "name": "stdout",
     "output_type": "stream",
     "text": [
      "Overwriting files/tutorial_eh.grmpy.yml\n"
     ]
    }
   ],
   "source": [
    "%%file files/tutorial_eh.grmpy.yml\n",
    "---\n",
    "SIMULATION:\n",
    "    seed: 2356\n",
    "    agents: 10000\n",
    "    source: data_eh\n",
    "ESTIMATION:\n",
    "    file: data_eh.grmpy.txt\n",
    "    start: auto\n",
    "    agents: 165\n",
    "    optimizer: SCIPY-BFGS\n",
    "    maxiter: 6383\n",
    "    dependent: Y\n",
    "    indicator: D\n",
    "    output_file: output/est.grmpy.info\n",
    "    comparison: 1\n",
    "    print_output: 0\n",
    "\n",
    "TREATED:\n",
    "    params:\n",
    "    - 1.0\n",
    "    - 0.555\n",
    "    order:\n",
    "    - const\n",
    "    - X2\n",
    "UNTREATED:\n",
    "    params:\n",
    "    - 0.5\n",
    "    - 0.25\n",
    "    order:\n",
    "    - const\n",
    "    - X2\n",
    "CHOICE:\n",
    "    params:\n",
    "    - 0.378\n",
    "    - -0.39\n",
    "    order:\n",
    "    - const\n",
    "    - X3\n",
    "DIST:\n",
    "    params:\n",
    "    - 0.1\n",
    "    - 0.0\n",
    "    - 0.0524\n",
    "    - 0.1\n",
    "    - -0.0216\n",
    "    - 1.0\n",
    "VARTYPES:\n",
    "    const: nonbinary\n",
    "    X2: nonbinary\n",
    "    X3: nonbinary\n",
    "SCIPY-BFGS:\n",
    "    gtol: 1.0e-05\n",
    "    eps: 1.4901161193847655e-08\n",
    "SCIPY-POWELL:\n",
    "    xtol: 9.147777614048603e-05\n",
    "    ftol: 9.749582129043358e-05"
   ]
  },
  {
   "cell_type": "code",
   "execution_count": 9,
   "metadata": {},
   "outputs": [
    {
     "data": {
      "text/html": [
       "<div>\n",
       "<style scoped>\n",
       "    .dataframe tbody tr th:only-of-type {\n",
       "        vertical-align: middle;\n",
       "    }\n",
       "\n",
       "    .dataframe tbody tr th {\n",
       "        vertical-align: top;\n",
       "    }\n",
       "\n",
       "    .dataframe thead th {\n",
       "        text-align: right;\n",
       "    }\n",
       "</style>\n",
       "<table border=\"1\" class=\"dataframe\">\n",
       "  <thead>\n",
       "    <tr style=\"text-align: right;\">\n",
       "      <th></th>\n",
       "      <th>const</th>\n",
       "      <th>X2</th>\n",
       "      <th>X3</th>\n",
       "      <th>U1</th>\n",
       "      <th>U0</th>\n",
       "      <th>V</th>\n",
       "      <th>Y1</th>\n",
       "      <th>Y0</th>\n",
       "      <th>D</th>\n",
       "      <th>Y</th>\n",
       "    </tr>\n",
       "  </thead>\n",
       "  <tbody>\n",
       "    <tr>\n",
       "      <th>0</th>\n",
       "      <td>1.0</td>\n",
       "      <td>-0.014710</td>\n",
       "      <td>0.023439</td>\n",
       "      <td>-0.015029</td>\n",
       "      <td>0.072663</td>\n",
       "      <td>-0.767427</td>\n",
       "      <td>0.976807</td>\n",
       "      <td>0.568986</td>\n",
       "      <td>1.0</td>\n",
       "      <td>0.976807</td>\n",
       "    </tr>\n",
       "    <tr>\n",
       "      <th>1</th>\n",
       "      <td>1.0</td>\n",
       "      <td>1.941447</td>\n",
       "      <td>-1.375891</td>\n",
       "      <td>0.121409</td>\n",
       "      <td>0.021829</td>\n",
       "      <td>0.563892</td>\n",
       "      <td>2.198912</td>\n",
       "      <td>1.007191</td>\n",
       "      <td>1.0</td>\n",
       "      <td>2.198912</td>\n",
       "    </tr>\n",
       "    <tr>\n",
       "      <th>2</th>\n",
       "      <td>1.0</td>\n",
       "      <td>-0.220668</td>\n",
       "      <td>1.555453</td>\n",
       "      <td>0.078986</td>\n",
       "      <td>-0.023754</td>\n",
       "      <td>0.304143</td>\n",
       "      <td>0.956515</td>\n",
       "      <td>0.421079</td>\n",
       "      <td>0.0</td>\n",
       "      <td>0.421079</td>\n",
       "    </tr>\n",
       "    <tr>\n",
       "      <th>3</th>\n",
       "      <td>1.0</td>\n",
       "      <td>0.531899</td>\n",
       "      <td>0.192161</td>\n",
       "      <td>0.076321</td>\n",
       "      <td>0.028085</td>\n",
       "      <td>1.129450</td>\n",
       "      <td>1.371525</td>\n",
       "      <td>0.661060</td>\n",
       "      <td>0.0</td>\n",
       "      <td>0.661060</td>\n",
       "    </tr>\n",
       "    <tr>\n",
       "      <th>4</th>\n",
       "      <td>1.0</td>\n",
       "      <td>-0.295161</td>\n",
       "      <td>1.663835</td>\n",
       "      <td>-0.053739</td>\n",
       "      <td>0.106255</td>\n",
       "      <td>0.030013</td>\n",
       "      <td>0.782446</td>\n",
       "      <td>0.532464</td>\n",
       "      <td>0.0</td>\n",
       "      <td>0.532464</td>\n",
       "    </tr>\n",
       "    <tr>\n",
       "      <th>5</th>\n",
       "      <td>1.0</td>\n",
       "      <td>2.030613</td>\n",
       "      <td>0.845409</td>\n",
       "      <td>-0.112613</td>\n",
       "      <td>-0.046794</td>\n",
       "      <td>-0.113168</td>\n",
       "      <td>2.014377</td>\n",
       "      <td>0.960859</td>\n",
       "      <td>1.0</td>\n",
       "      <td>2.014377</td>\n",
       "    </tr>\n",
       "    <tr>\n",
       "      <th>6</th>\n",
       "      <td>1.0</td>\n",
       "      <td>-0.189934</td>\n",
       "      <td>-0.830659</td>\n",
       "      <td>-0.000561</td>\n",
       "      <td>-0.048730</td>\n",
       "      <td>0.036247</td>\n",
       "      <td>0.894026</td>\n",
       "      <td>0.403786</td>\n",
       "      <td>1.0</td>\n",
       "      <td>0.894026</td>\n",
       "    </tr>\n",
       "    <tr>\n",
       "      <th>7</th>\n",
       "      <td>1.0</td>\n",
       "      <td>0.590819</td>\n",
       "      <td>1.731056</td>\n",
       "      <td>-0.091649</td>\n",
       "      <td>0.073059</td>\n",
       "      <td>-0.715671</td>\n",
       "      <td>1.236255</td>\n",
       "      <td>0.720764</td>\n",
       "      <td>1.0</td>\n",
       "      <td>1.236255</td>\n",
       "    </tr>\n",
       "    <tr>\n",
       "      <th>8</th>\n",
       "      <td>1.0</td>\n",
       "      <td>0.790466</td>\n",
       "      <td>1.133287</td>\n",
       "      <td>-0.078217</td>\n",
       "      <td>-0.185083</td>\n",
       "      <td>-0.752158</td>\n",
       "      <td>1.360492</td>\n",
       "      <td>0.512533</td>\n",
       "      <td>1.0</td>\n",
       "      <td>1.360492</td>\n",
       "    </tr>\n",
       "    <tr>\n",
       "      <th>9</th>\n",
       "      <td>1.0</td>\n",
       "      <td>-1.378429</td>\n",
       "      <td>0.020067</td>\n",
       "      <td>0.180205</td>\n",
       "      <td>-0.057158</td>\n",
       "      <td>1.112402</td>\n",
       "      <td>0.415177</td>\n",
       "      <td>0.098234</td>\n",
       "      <td>0.0</td>\n",
       "      <td>0.098234</td>\n",
       "    </tr>\n",
       "    <tr>\n",
       "      <th>10</th>\n",
       "      <td>1.0</td>\n",
       "      <td>-0.089817</td>\n",
       "      <td>-0.279000</td>\n",
       "      <td>0.024354</td>\n",
       "      <td>-0.067862</td>\n",
       "      <td>-0.052191</td>\n",
       "      <td>0.974506</td>\n",
       "      <td>0.409684</td>\n",
       "      <td>1.0</td>\n",
       "      <td>0.974506</td>\n",
       "    </tr>\n",
       "    <tr>\n",
       "      <th>11</th>\n",
       "      <td>1.0</td>\n",
       "      <td>0.212042</td>\n",
       "      <td>2.217055</td>\n",
       "      <td>-0.022872</td>\n",
       "      <td>-0.017309</td>\n",
       "      <td>-0.391822</td>\n",
       "      <td>1.094811</td>\n",
       "      <td>0.535702</td>\n",
       "      <td>0.0</td>\n",
       "      <td>0.535702</td>\n",
       "    </tr>\n",
       "    <tr>\n",
       "      <th>12</th>\n",
       "      <td>1.0</td>\n",
       "      <td>0.140421</td>\n",
       "      <td>-0.949804</td>\n",
       "      <td>0.004355</td>\n",
       "      <td>0.001276</td>\n",
       "      <td>-0.660895</td>\n",
       "      <td>1.082289</td>\n",
       "      <td>0.536381</td>\n",
       "      <td>1.0</td>\n",
       "      <td>1.082289</td>\n",
       "    </tr>\n",
       "    <tr>\n",
       "      <th>13</th>\n",
       "      <td>1.0</td>\n",
       "      <td>-0.152488</td>\n",
       "      <td>0.997728</td>\n",
       "      <td>0.150062</td>\n",
       "      <td>-0.139993</td>\n",
       "      <td>0.599014</td>\n",
       "      <td>1.065431</td>\n",
       "      <td>0.321885</td>\n",
       "      <td>0.0</td>\n",
       "      <td>0.321885</td>\n",
       "    </tr>\n",
       "    <tr>\n",
       "      <th>14</th>\n",
       "      <td>1.0</td>\n",
       "      <td>-0.008147</td>\n",
       "      <td>0.812770</td>\n",
       "      <td>-0.075304</td>\n",
       "      <td>0.058249</td>\n",
       "      <td>-0.729648</td>\n",
       "      <td>0.920175</td>\n",
       "      <td>0.556212</td>\n",
       "      <td>1.0</td>\n",
       "      <td>0.920175</td>\n",
       "    </tr>\n",
       "    <tr>\n",
       "      <th>15</th>\n",
       "      <td>1.0</td>\n",
       "      <td>0.962076</td>\n",
       "      <td>-1.210027</td>\n",
       "      <td>0.264935</td>\n",
       "      <td>-0.099564</td>\n",
       "      <td>1.196918</td>\n",
       "      <td>1.798888</td>\n",
       "      <td>0.640955</td>\n",
       "      <td>0.0</td>\n",
       "      <td>0.640955</td>\n",
       "    </tr>\n",
       "    <tr>\n",
       "      <th>16</th>\n",
       "      <td>1.0</td>\n",
       "      <td>-2.212943</td>\n",
       "      <td>0.613103</td>\n",
       "      <td>0.008139</td>\n",
       "      <td>0.087685</td>\n",
       "      <td>-0.484076</td>\n",
       "      <td>-0.220044</td>\n",
       "      <td>0.034450</td>\n",
       "      <td>1.0</td>\n",
       "      <td>-0.220044</td>\n",
       "    </tr>\n",
       "    <tr>\n",
       "      <th>17</th>\n",
       "      <td>1.0</td>\n",
       "      <td>-0.243372</td>\n",
       "      <td>-0.256826</td>\n",
       "      <td>-0.000754</td>\n",
       "      <td>-0.007892</td>\n",
       "      <td>-0.909643</td>\n",
       "      <td>0.864174</td>\n",
       "      <td>0.431265</td>\n",
       "      <td>1.0</td>\n",
       "      <td>0.864174</td>\n",
       "    </tr>\n",
       "    <tr>\n",
       "      <th>18</th>\n",
       "      <td>1.0</td>\n",
       "      <td>0.882084</td>\n",
       "      <td>-0.619958</td>\n",
       "      <td>0.118808</td>\n",
       "      <td>-0.097278</td>\n",
       "      <td>1.717069</td>\n",
       "      <td>1.608364</td>\n",
       "      <td>0.623243</td>\n",
       "      <td>0.0</td>\n",
       "      <td>0.623243</td>\n",
       "    </tr>\n",
       "    <tr>\n",
       "      <th>19</th>\n",
       "      <td>1.0</td>\n",
       "      <td>0.363549</td>\n",
       "      <td>1.137413</td>\n",
       "      <td>0.178168</td>\n",
       "      <td>0.045299</td>\n",
       "      <td>0.414351</td>\n",
       "      <td>1.379938</td>\n",
       "      <td>0.636186</td>\n",
       "      <td>0.0</td>\n",
       "      <td>0.636186</td>\n",
       "    </tr>\n",
       "  </tbody>\n",
       "</table>\n",
       "</div>"
      ],
      "text/plain": [
       "    const        X2        X3        U1        U0         V        Y1  \\\n",
       "0     1.0 -0.014710  0.023439 -0.015029  0.072663 -0.767427  0.976807   \n",
       "1     1.0  1.941447 -1.375891  0.121409  0.021829  0.563892  2.198912   \n",
       "2     1.0 -0.220668  1.555453  0.078986 -0.023754  0.304143  0.956515   \n",
       "3     1.0  0.531899  0.192161  0.076321  0.028085  1.129450  1.371525   \n",
       "4     1.0 -0.295161  1.663835 -0.053739  0.106255  0.030013  0.782446   \n",
       "5     1.0  2.030613  0.845409 -0.112613 -0.046794 -0.113168  2.014377   \n",
       "6     1.0 -0.189934 -0.830659 -0.000561 -0.048730  0.036247  0.894026   \n",
       "7     1.0  0.590819  1.731056 -0.091649  0.073059 -0.715671  1.236255   \n",
       "8     1.0  0.790466  1.133287 -0.078217 -0.185083 -0.752158  1.360492   \n",
       "9     1.0 -1.378429  0.020067  0.180205 -0.057158  1.112402  0.415177   \n",
       "10    1.0 -0.089817 -0.279000  0.024354 -0.067862 -0.052191  0.974506   \n",
       "11    1.0  0.212042  2.217055 -0.022872 -0.017309 -0.391822  1.094811   \n",
       "12    1.0  0.140421 -0.949804  0.004355  0.001276 -0.660895  1.082289   \n",
       "13    1.0 -0.152488  0.997728  0.150062 -0.139993  0.599014  1.065431   \n",
       "14    1.0 -0.008147  0.812770 -0.075304  0.058249 -0.729648  0.920175   \n",
       "15    1.0  0.962076 -1.210027  0.264935 -0.099564  1.196918  1.798888   \n",
       "16    1.0 -2.212943  0.613103  0.008139  0.087685 -0.484076 -0.220044   \n",
       "17    1.0 -0.243372 -0.256826 -0.000754 -0.007892 -0.909643  0.864174   \n",
       "18    1.0  0.882084 -0.619958  0.118808 -0.097278  1.717069  1.608364   \n",
       "19    1.0  0.363549  1.137413  0.178168  0.045299  0.414351  1.379938   \n",
       "\n",
       "          Y0    D         Y  \n",
       "0   0.568986  1.0  0.976807  \n",
       "1   1.007191  1.0  2.198912  \n",
       "2   0.421079  0.0  0.421079  \n",
       "3   0.661060  0.0  0.661060  \n",
       "4   0.532464  0.0  0.532464  \n",
       "5   0.960859  1.0  2.014377  \n",
       "6   0.403786  1.0  0.894026  \n",
       "7   0.720764  1.0  1.236255  \n",
       "8   0.512533  1.0  1.360492  \n",
       "9   0.098234  0.0  0.098234  \n",
       "10  0.409684  1.0  0.974506  \n",
       "11  0.535702  0.0  0.535702  \n",
       "12  0.536381  1.0  1.082289  \n",
       "13  0.321885  0.0  0.321885  \n",
       "14  0.556212  1.0  0.920175  \n",
       "15  0.640955  0.0  0.640955  \n",
       "16  0.034450  1.0 -0.220044  \n",
       "17  0.431265  1.0  0.864174  \n",
       "18  0.623243  0.0  0.623243  \n",
       "19  0.636186  0.0  0.636186  "
      ]
     },
     "execution_count": 9,
     "metadata": {},
     "output_type": "execute_result"
    }
   ],
   "source": [
    "data_eh = grmpy.simulate('files/tutorial_eh.grmpy.yml')\n",
    "data_eh.head(20)"
   ]
  },
  {
   "cell_type": "code",
   "execution_count": 10,
   "metadata": {},
   "outputs": [
    {
     "name": "stdout",
     "output_type": "stream",
     "text": [
      "\r\n",
      "\r\n",
      " Number of Observations \r\n",
      "\r\n",
      "                            Count\r\n",
      "\r\n",
      "  All                       10000\r\n",
      "  Treated                    6384\r\n",
      "  Untreated                  3616\r\n",
      "\r\n",
      "\r\n",
      " Distribution of Outcomes\r\n",
      "\r\n",
      "                             Mean             Std-Dev.                  25%                  50%                  75%\r\n",
      "\r\n",
      "  All                      0.7945               0.5279               0.4237               0.7200               1.1301\r\n",
      "  Treated                  0.9721               0.5557               0.6012               0.9698               1.3457\r\n",
      "  Untreated                0.4809               0.2674               0.3072               0.4807               0.6615\r\n",
      "\r\n",
      "\r\n",
      " Distribution of Effects\r\n",
      "\r\n",
      "                             Mean             Std-Dev.                  25%                  50%                  75%\r\n",
      "\r\n",
      "  All                      0.4987               0.3328               0.2705               0.5020               0.7210\r\n",
      "  Treated                  0.4607               0.3279               0.2391               0.4578               0.6831\r\n",
      "  Untreated                0.5658               0.3308               0.3415               0.5696               0.7857\r\n",
      "\r\n",
      "\r\n",
      " Criterion Function \r\n",
      "\r\n",
      "  Value           -0.322419326705      \r\n",
      "\r\n",
      "\r\n",
      "\r\n",
      " Marginal Treatment Effect \r\n",
      "\r\n",
      "    Quantile                Value\r\n",
      "\r\n",
      "          1%               0.3285\r\n",
      "          5%               0.3789\r\n",
      "         10%               0.4058\r\n",
      "         15%               0.4239\r\n",
      "         20%               0.4383\r\n",
      "         25%               0.4507\r\n",
      "         30%               0.4618\r\n",
      "         35%               0.4721\r\n",
      "         40%               0.4819\r\n",
      "         45%               0.4913\r\n",
      "         50%               0.5006\r\n",
      "         55%               0.5099\r\n",
      "         60%               0.5194\r\n",
      "         65%               0.5291\r\n",
      "         70%               0.5394\r\n",
      "         75%               0.5505\r\n",
      "         80%               0.5629\r\n",
      "         85%               0.5773\r\n",
      "         90%               0.5955\r\n",
      "         95%               0.6223\r\n",
      "         99%               0.6728\r\n",
      "\r\n",
      "\r\n",
      " Parameterization \r\n",
      "\r\n",
      " Section       Identifier           Coef\r\n",
      "\r\n",
      "  TREATED    \r\n",
      "               const                1.0000\r\n",
      "               X2                   0.5550\r\n",
      "\r\n",
      "  UNTREATED  \r\n",
      "               const                0.5000\r\n",
      "               X2                   0.2500\r\n",
      "\r\n",
      "  CHOICE     \r\n",
      "               const                0.3780\r\n",
      "               X3                  -0.3900\r\n",
      "\r\n",
      "  DIST       \r\n",
      "               sigma1               0.1000\r\n",
      "               sigma10              0.0000\r\n",
      "               sigma1v              0.0524\r\n",
      "               sigma0               0.1000\r\n",
      "               sigma0v             -0.0216\r\n",
      "               sigmaV               1.0000\r\n"
     ]
    }
   ],
   "source": [
    "!cat \"data_eh.grmpy.info\""
   ]
  },
  {
   "cell_type": "code",
   "execution_count": 11,
   "metadata": {},
   "outputs": [
    {
     "name": "stdout",
     "output_type": "stream",
     "text": [
      "ATE: 0.4987192962464583\n",
      "TT:  0.4607033317641337\n",
      "TUT: 0.5658359769033056 \n",
      "\n"
     ]
    },
    {
     "data": {
      "image/png": "[encoded data removed]",
      "text/plain": [
       "<Figure size 1080x720 with 1 Axes>"
      ]
     },
     "metadata": {
      "needs_background": "light"
     },
     "output_type": "display_data"
    }
   ],
   "source": [
    "effects(data_eh)"
   ]
  },
  {
   "cell_type": "markdown",
   "metadata": {},
   "source": [
    "Next we illustrate how essential heterogeneity is refelected in the joint distribution of the error term. For that purpose we created two figures that show the relationship between $U_1$ and $V$ for both data sets which we simulated before."
   ]
  },
  {
   "cell_type": "code",
   "execution_count": 12,
   "metadata": {},
   "outputs": [
    {
     "data": {
      "image/png": "[encoded data removed]",
      "text/plain": [
       "<Figure size 432x432 with 3 Axes>"
      ]
     },
     "metadata": {
      "needs_background": "light"
     },
     "output_type": "display_data"
    },
    {
     "data": {
      "image/png": "[encoded data removed]",
      "text/plain": [
       "<Figure size 432x432 with 3 Axes>"
      ]
     },
     "metadata": {
      "needs_background": "light"
     },
     "output_type": "display_data"
    }
   ],
   "source": [
    "plot_joint_distribution_unobservables(data, data_eh)"
   ]
  },
  {
   "cell_type": "markdown",
   "metadata": {},
   "source": [
    "Simulating data sets enables us to explore more facets of the impact of essential heterogeneity on the marginal effect of treatment. The marginal effect of treatment, henceforth denoted as $B^{MTE}$ is defined as the effect of treatment for individuals that are indifferent between taking the treatment or not along the distribution of the unobservable variable $V$. This means that instead of assigning explicitly one value as the effect of treatment the $B^{MTE}$ provides a continuum of effects along the distribution of the unobservable $V$. More formally:\n",
    "\n",
    "\\begin{align*}\n",
    "B^{MTE} = E[Y_1-Y_0|X=x, U_D = u_D] \\\\\n",
    "\\end{align*}\n",
    "\n",
    "In the abscence of essential heterogeneity $B^{MTE}$ provides a constant value over the whole distribution of $V$. This implies that the individual's decision for treatment participation is independent of their unobservable benefits so that each individual on the margin faces the same average benefit of treatment. This can be seen in the figure below. The flat line captures the $B^{MTE}$ for the simulated data without essential heterogeneity, wheras the increasing cure illustrates the marginal effect for the one that is affected by essential heterogeneity."
   ]
  },
  {
   "cell_type": "code",
   "execution_count": 13,
   "metadata": {},
   "outputs": [
    {
     "data": {
      "image/png": "[encoded data removed]",
      "text/plain": [
       "<Figure size 1080x720 with 1 Axes>"
      ]
     },
     "metadata": {
      "needs_background": "light"
     },
     "output_type": "display_data"
    }
   ],
   "source": [
    "plot_marginal_effects('data.grmpy.info', 'data_eh.grmpy.info')"
   ]
  },
  {
   "cell_type": "markdown",
   "metadata": {},
   "source": [
    "Using simulated data allows us to tackle issues and explore additional objects of interest for which we are not able to obtain reliable information if we use empirical data sets. For instance we are able to construct the joint distribution of potential outcomes from the previously simulated data sets because our simulated data allows us to evade the evaluation problem. This means that we have information about the whole space of potential outcomes for each individual. "
   ]
  },
  {
   "cell_type": "code",
   "execution_count": 14,
   "metadata": {},
   "outputs": [
    {
     "data": {
      "image/png": "[encoded data removed]",
      "text/plain": [
       "<Figure size 432x432 with 3 Axes>"
      ]
     },
     "metadata": {
      "needs_background": "light"
     },
     "output_type": "display_data"
    }
   ],
   "source": [
    "plot_joint_distribution_potential(data_eh)"
   ]
  },
  {
   "cell_type": "markdown",
   "metadata": {},
   "source": [
    "## The Estimation Process\n",
    "\n",
    "grmpy enables users to estimate parameters on data sets. Executing an estimation is simple. Just setup your estimation specifications in the initialization file and provide the estimation process with the resulting initialization file."
   ]
  },
  {
   "cell_type": "code",
   "execution_count": 1,
   "metadata": {},
   "outputs": [
    {
     "ename": "NameError",
     "evalue": "name 'grmpy' is not defined",
     "output_type": "error",
     "traceback": [
      "\u001b[0;31m---------------------------------------------------------------------------\u001b[0m",
      "\u001b[0;31mNameError\u001b[0m                                 Traceback (most recent call last)",
      "\u001b[0;32m<ipython-input-1-8e1da609667d>\u001b[0m in \u001b[0;36m<module>\u001b[0;34m\u001b[0m\n\u001b[1;32m      1\u001b[0m \u001b[0mget_ipython\u001b[0m\u001b[0;34m(\u001b[0m\u001b[0;34m)\u001b[0m\u001b[0;34m.\u001b[0m\u001b[0mrun_line_magic\u001b[0m\u001b[0;34m(\u001b[0m\u001b[0;34m'load_ext'\u001b[0m\u001b[0;34m,\u001b[0m \u001b[0;34m'snakeviz'\u001b[0m\u001b[0;34m)\u001b[0m\u001b[0;34m\u001b[0m\u001b[0;34m\u001b[0m\u001b[0m\n\u001b[1;32m      2\u001b[0m \u001b[0;34m\u001b[0m\u001b[0m\n\u001b[0;32m----> 3\u001b[0;31m \u001b[0mrslt\u001b[0m \u001b[0;34m=\u001b[0m \u001b[0mgrmpy\u001b[0m\u001b[0;34m.\u001b[0m\u001b[0mfit\u001b[0m\u001b[0;34m(\u001b[0m\u001b[0;34m'files/tutorial_eh.grmpy.yml'\u001b[0m\u001b[0;34m)\u001b[0m\u001b[0;34m\u001b[0m\u001b[0;34m\u001b[0m\u001b[0m\n\u001b[0m",
      "\u001b[0;31mNameError\u001b[0m: name 'grmpy' is not defined"
     ]
    }
   ],
   "source": [
    "\n",
    "rslt = grmpy.fit('files/tutorial_eh.grmpy.yml')"
   ]
  },
  {
   "cell_type": "code",
   "execution_count": 50,
   "metadata": {},
   "outputs": [
    {
     "data": {
      "text/plain": [
       "{'params': array([ 0.0936196 ,  0.36066083,  0.10055516, -0.0995626 ]),\n",
       " 'starting_values': array([0.09359645, 0.        , 0.10023463, 0.        ]),\n",
       " 'order': ['sigma1', 'rho1', 'sigma0', 'rho0'],\n",
       " 'standard_errors': array([0.00108689, 0.04372594, 0.00124738, 0.06342575]),\n",
       " 'confidence_intervals': array([[ 0.09148935,  0.09574986],\n",
       "        [ 0.27495956,  0.44636211],\n",
       "        [ 0.09811034,  0.10299999],\n",
       "        [-0.22387478,  0.02474957]]),\n",
       " 'p_values': array([0.00000000e+00, 2.22044605e-16, 0.00000000e+00, 1.16504812e-01]),\n",
       " 't_values': array([86.13554513,  8.24821137, 80.61295816, -1.56975061])}"
      ]
     },
     "execution_count": 50,
     "metadata": {},
     "output_type": "execute_result"
    }
   ],
   "source": [
    "rslt['DIST']"
   ]
  },
  {
   "cell_type": "markdown",
   "metadata": {},
   "source": [
    "The estimation process returns a detailed overview of the results via an output file"
   ]
  },
  {
   "cell_type": "code",
   "execution_count": 51,
   "metadata": {},
   "outputs": [
    {
     "name": "stdout",
     "output_type": "stream",
     "text": [
      "\r\n",
      " \r\n",
      "  Optimization Information\r\n",
      "\r\n",
      "             Optimizer:                    SCIPY-BFGS                     \r\n",
      "             Start Values:                 auto                           \r\n",
      "             Success:                      0                              \r\n",
      "             Status:                       2                              \r\n",
      "             Message:                      Desired error not necessarily achieved due to precision loss. \r\n",
      "             Number of Evaluations:        101                            \r\n",
      "             Criterion:                    -0.3219                       \r\n",
      "             Observations:                 10000                          \r\n",
      "             Warning:                      The optimization algorithm has failed to provide the parametrization that leads to the minimal criterion function value. \r\n",
      "                                           The estimation output is automatically adjusted and provides the parameterization with the smallest criterion function value \r\n",
      "                                           that was reached during the optimization.\r\n",
      " \r\n",
      "\r\n",
      " \r\n",
      "  Criterion Function\r\n",
      "\r\n",
      "                                        Start               Finish\r\n",
      "\r\n",
      "\r\n",
      "                          -0.3187406802544943  -0.3219131818169207\r\n",
      "\r\n",
      "\r\n",
      " \r\n",
      "  Economic Parameters\r\n",
      "\r\n",
      "\r\n",
      "                                    Start          Finish\r\n",
      "\r\n",
      " Section       Identifier           Coef           Coef           Std err        t              P>|t|          95% Conf. Int.\r\n",
      "\r\n",
      "  TREATED    \r\n",
      "               const                0.9708         0.9901         0.0026       373.9223         0.0000         0.9849    0.9952\r\n",
      "               X2                   0.5533         0.5532         0.0011       483.6997         0.0000         0.5509    0.5554\r\n",
      "\r\n",
      "  UNTREATED  \r\n",
      "               const                0.4805         0.4901         0.0063        77.2232         0.0000         0.4776    0.5025\r\n",
      "               X2                   0.2477         0.2478         0.0017       148.8297         0.0000         0.2446    0.2511\r\n",
      "\r\n",
      "  CHOICE     \r\n",
      "               const                0.3795         0.3784         0.0133        28.4283         0.0000         0.3523    0.4044\r\n",
      "               X3                  -0.4175        -0.4211         0.0138       -30.5494         0.0000        -0.4481   -0.3941\r\n",
      "\r\n",
      "  DIST       \r\n",
      "               sigma1               0.0936         0.0936         0.0011        86.1355         0.0000         0.0915    0.0957\r\n",
      "               rho1                 0.0000         0.3607         0.0437         8.2482         0.0000         0.2750    0.4464\r\n",
      "               sigma0               0.1002         0.1006         0.0012        80.6130         0.0000         0.0981    0.1030\r\n",
      "               rho0                 0.0000        -0.0996         0.0634        -1.5698         0.1165        -0.2239    0.0247\r\n"
     ]
    }
   ],
   "source": [
    "!cat output/est.grmpy.info"
   ]
  },
  {
   "cell_type": "markdown",
   "metadata": {},
   "source": [
    "In addition the process is capable of simulating a new data set according to the estimation results. This enables users to verify their obtained results easily."
   ]
  },
  {
   "cell_type": "code",
   "execution_count": 17,
   "metadata": {},
   "outputs": [
    {
     "name": "stdout",
     "output_type": "stream",
     "text": [
      "\r\n",
      "\r\n",
      " Number of Observations \r\n",
      "\r\n",
      "    Sample                                Observed   Simulated (finish)    Simulated (start)\r\n",
      "\r\n",
      "\r\n",
      "    All                                      10000                10000                10000\r\n",
      "    Treated                                   6384                 6374                 6398\r\n",
      "    Untreated                                 3616                 3626                 3602\r\n",
      "\r\n",
      "\r\n",
      " Distribution of Outcomes\r\n",
      "\r\n",
      "\r\n",
      "\r\n",
      "   All       \r\n",
      "\r\n",
      "                                              Mean             Std-Dev.                  25%                  50%                  75%\r\n",
      "\r\n",
      "    Observed Sample                         0.7945               0.5279               0.4237               0.7200               1.1301\r\n",
      "    Simulated Sample (finish)               0.7941               0.5261               0.4249               0.7196               1.1309\r\n",
      "    Simulated Sample (start)                0.7944               0.5281               0.4204               0.7235               1.1358\r\n",
      "\r\n",
      "\r\n",
      "   Treated   \r\n",
      "\r\n",
      "                                              Mean             Std-Dev.                  25%                  50%                  75%\r\n",
      "\r\n",
      "    Observed Sample                         0.9721               0.5557               0.6012               0.9698               1.3457\r\n",
      "    Simulated Sample (finish)               0.9721               0.5538               0.5985               0.9700               1.3458\r\n",
      "    Simulated Sample (start)                0.9726               0.5546               0.6072               0.9752               1.3414\r\n",
      "\r\n",
      "\r\n",
      "   Untreated \r\n",
      "\r\n",
      "                                              Mean             Std-Dev.                  25%                  50%                  75%\r\n",
      "\r\n",
      "    Observed Sample                         0.4809               0.2674               0.3072               0.4807               0.6615\r\n",
      "    Simulated Sample (finish)               0.4812               0.2658               0.3086               0.4804               0.6620\r\n",
      "    Simulated Sample (start)                0.4778               0.2673               0.3040               0.4816               0.6576\r\n",
      "\r\n",
      "\r\n",
      " MTE Information \r\n",
      "\r\n",
      "    Quantile                Value\r\n",
      "\r\n",
      "          1%               0.3503\r\n",
      "          5%               0.3951\r\n",
      "         10%               0.4191\r\n",
      "         15%               0.4352\r\n",
      "         20%               0.4480\r\n",
      "         25%               0.4590\r\n",
      "         30%               0.4689\r\n",
      "         35%               0.4781\r\n",
      "         40%               0.4868\r\n",
      "         45%               0.4952\r\n",
      "         50%               0.5035\r\n",
      "         55%               0.5117\r\n",
      "         60%               0.5201\r\n",
      "         65%               0.5288\r\n",
      "         70%               0.5380\r\n",
      "         75%               0.5479\r\n",
      "         80%               0.5589\r\n",
      "         85%               0.5717\r\n",
      "         90%               0.5878\r\n",
      "         95%               0.6118\r\n",
      "         99%               0.6566\r\n"
     ]
    }
   ],
   "source": [
    "!cat comparison.grmpy.txt"
   ]
  },
  {
   "cell_type": "markdown",
   "metadata": {},
   "source": [
    "## Software Engineering Practices\n"
   ]
  },
  {
   "cell_type": "markdown",
   "metadata": {},
   "source": [
    "# Part II - Monte Carlo Simulation\n",
    "\n",
    "For illustrating the advantages of grmpy's estimation process in the presence of essential heterogeneity we conduct a Monte Carlo exercise. As before the starting point of the exericise is an initialization file over which we iterate several times during the process. The distributional characteristics are such that the unobservable variables are distributed according to the following covariance matrix\n",
    "\n",
    "\\begin{align}\n",
    "\\Sigma =  \\begin{bmatrix}\n",
    "    0.01 & 0 & \\frac{\\rho_{1,V}}{0.1}  \\\\\n",
    "    0 & 0.01 & 0 \\\\\n",
    "    \\frac{\\rho_{1,V}}{0.1}  & 0 & 1 \\\\\n",
    "  \\end{bmatrix}\n",
    "\\end{align}\n",
    "\n",
    "During each step of the iteration we increase the correlation between $U_1$ and $V$. We will start from a value of $\\rho_1 =0.0$ and end at $\\rho_1 = 0.99$. This increase is equivalent to the observation of incremental reverse selection behavior, because individuals with a low value of $V$ which are most likely to select into treatment have on average a lower value of $U_1$ than individuals that have larger values of $V$. in addition we estimate the average effect of treatment during each step. For this purpose we use the grmpy estimation process, an ordinary least squares regression and an instrumental variables approach as well as a naive comparison of outputs between treated and untreated individuals.\n",
    "\n"
   ]
  },
  {
   "cell_type": "markdown",
   "metadata": {},
   "source": [
    "### The Initialization file"
   ]
  },
  {
   "cell_type": "code",
   "execution_count": 18,
   "metadata": {},
   "outputs": [
    {
     "name": "stdout",
     "output_type": "stream",
     "text": [
      "Overwriting files/mc.grmpy.yml\n"
     ]
    }
   ],
   "source": [
    "%%file files/mc.grmpy.yml\n",
    "---\n",
    "SIMULATION:\n",
    "    seed: 5133\n",
    "    agents: 10000\n",
    "    source: mc\n",
    "ESTIMATION:\n",
    "    file: mc.grmpy.txt\n",
    "    start: auto\n",
    "    agents: 165\n",
    "    optimizer: SCIPY-BFGS\n",
    "    maxiter: 6383\n",
    "    dependent: wage\n",
    "    indicator: state\n",
    "    output_file: mc_rslt.grmpy.info\n",
    "    comparison: 0\n",
    "    print_output: 0\n",
    "\n",
    "TREATED:\n",
    "    params:\n",
    "    - 0.99\n",
    "    - 0.555\n",
    "    - -0.555\n",
    "    - 0.755\n",
    "    - 0.155\n",
    "    order:\n",
    "    - const\n",
    "    - X2\n",
    "    - X3\n",
    "    - X4\n",
    "    - X5\n",
    "UNTREATED:\n",
    "    params:\n",
    "    - 0.5\n",
    "    - 0.255\n",
    "    - -0.255\n",
    "    - 0.1768\n",
    "    - 0.0987\n",
    "    \n",
    "    order:\n",
    "    - const\n",
    "    - X2\n",
    "    - X3\n",
    "    - X4\n",
    "    - X5\n",
    "CHOICE:\n",
    "    params:\n",
    "    - 0.28\n",
    "    - -0.39\n",
    "    - 0.59\n",
    "    - -0.89\n",
    "    - -0.73\n",
    "\n",
    "    order:\n",
    "    - const\n",
    "    - X6\n",
    "    - X7\n",
    "    - X8\n",
    "    - X9\n",
    "\n",
    "DIST:\n",
    "    params:\n",
    "    - 0.2\n",
    "    - 0.0\n",
    "    - 0.0\n",
    "    - 0.2\n",
    "    - 0.0\n",
    "    - 1.0\n",
    "VARTYPES:\n",
    "    const: nonbinary\n",
    "    X2: nonbinary\n",
    "    X3: nonbinary\n",
    "    X4: nonbinary\n",
    "    X5: nonbinary\n",
    "    X6: nonbinary\n",
    "    X7: nonbinary\n",
    "    X8: nonbinary\n",
    "    X9: nonbinary\n",
    "SCIPY-BFGS:\n",
    "    gtol: 1.0e-05\n",
    "    eps: 1.4901161193847655e-08\n",
    "SCIPY-POWELL:\n",
    "    xtol: 9.147777614048603e-05\n",
    "    ftol: 9.749582129043358e-05"
   ]
  },
  {
   "cell_type": "code",
   "execution_count": 19,
   "metadata": {},
   "outputs": [
    {
     "data": {
      "image/png": "[encoded data removed]",
      "text/plain": [
       "<Figure size 1260x720 with 1 Axes>"
      ]
     },
     "metadata": {
      "needs_background": "light"
     },
     "output_type": "display_data"
    }
   ],
   "source": [
    "grmpy.simulate('files/mc.grmpy.yml')\n",
    "monte_carlo('files/mc.grmpy.yml', 10)"
   ]
  },
  {
   "cell_type": "markdown",
   "metadata": {},
   "source": [
    "As can be seen from the figure, the OLS estimator and the naive comparison of outcomes between the treated and untreated subpopulation underestimate the effect significantly. The stronger the correlation between the unobservable variables the more or less stronger bias. Moreover the IV estimates become upward biased as soon the impact of essential heterogeneity increases. Conversely to the other estimation approaches the grmpy estimate of the average effect is close to the true value even if the unobservables are almost perfectly correlated."
   ]
  },
  {
   "cell_type": "markdown",
   "metadata": {},
   "source": [
    "# Part III - Replication Carneiro & Heckman & Vytlacil 2011\n",
    "\n",
    "Since the current version of grmpy is not capable of estimating non-parametric versions of the Roy models, our\n",
    "replication of Carneiro et al. (2011) will focus on reproducing the results for the marginal treatment effect of the parametric selection model. Due to reasons of privacy regarding local variables, we are not able to merge the data provided by the authors so that they fully coincide with the original data set. Therefore our replication setup makes use of a mock data set. For this purpose we randomly merge the individual specific data with the local characteristics."
   ]
  },
  {
   "cell_type": "code",
   "execution_count": 20,
   "metadata": {},
   "outputs": [],
   "source": [
    "basic = pd.read_stata('data/basicvariables.dta')\n",
    "local = pd.read_stata('data/localvariables.dta') \n",
    "df = pd.concat([basic, local], axis = 1)\n",
    "process_data(df,'data/aer-replication-mock')"
   ]
  },
  {
   "cell_type": "markdown",
   "metadata": {},
   "source": [
    "In the next step we have to create a inititalization file that fully coincides with the setup by Carneiro et. al. (2011). Therefore we use the information that the authors provide in their appendix to create the following init file:"
   ]
  },
  {
   "cell_type": "code",
   "execution_count": 43,
   "metadata": {},
   "outputs": [
    {
     "name": "stdout",
     "output_type": "stream",
     "text": [
      "Overwriting files/replication.grmpy.yml\n"
     ]
    }
   ],
   "source": [
    "%%file files/replication.grmpy.yml\n",
    "---\n",
    "SIMULATION:\n",
    "    seed: 5062\n",
    "    agents: 991\n",
    "    source: 8EF73AA0\n",
    "ESTIMATION:\n",
    "    file: data/aer-replication-mock.pkl\n",
    "    start: auto\n",
    "    agents: 1000\n",
    "    optimizer: SCIPY-BFGS\n",
    "    maxiter: 80000\n",
    "    dependent: wage\n",
    "    indicator: state\n",
    "    output_file: replication.grmpy.info\n",
    "    comparison: 0\n",
    "    print_output: 1\n",
    "\n",
    "TREATED:\n",
    "    params:\n",
    "    - 1.0\n",
    "    order:\n",
    "    - const\n",
    "    - exp\n",
    "    - expsq\n",
    "    - lwage5\n",
    "    - lurate\n",
    "    - cafqt\n",
    "    - cafqtsq\n",
    "    - mhgc\n",
    "    - mhgcsq\n",
    "    - numsibs\n",
    "    - numsibssq\n",
    "    - urban14\n",
    "    - lavlocwage17\n",
    "    - lavlocwage17sq\n",
    "    - avurate\n",
    "    - avuratesq\n",
    "    - d57\n",
    "    - d58\n",
    "    - d59\n",
    "    - d60\n",
    "    - d61\n",
    "    - d62\n",
    "    - d63\n",
    "UNTREATED:\n",
    "    params:\n",
    "    - 1.0\n",
    "    order:\n",
    "    - const\n",
    "    - exp\n",
    "    - expsq\n",
    "    - lwage5\n",
    "    - lurate\n",
    "    - cafqt\n",
    "    - cafqtsq\n",
    "    - mhgc\n",
    "    - mhgcsq\n",
    "    - numsibs\n",
    "    - numsibssq\n",
    "    - urban14\n",
    "    - lavlocwage17\n",
    "    - lavlocwage17sq\n",
    "    - avurate\n",
    "    - avuratesq\n",
    "    - d57\n",
    "    - d58\n",
    "    - d59\n",
    "    - d60\n",
    "    - d61\n",
    "    - d62\n",
    "    - d63\n",
    "CHOICE:\n",
    "    params:\n",
    "    - 1.0\n",
    "    order:\n",
    "    - const\n",
    "    - cafqt\n",
    "    - cafqtsq\n",
    "    - mhgc\n",
    "    - mhgcsq\n",
    "    - numsibs\n",
    "    - numsibssq\n",
    "    - urban14\n",
    "    - lavlocwage17\n",
    "    - lavlocwage17sq\n",
    "    - avurate\n",
    "    - avuratesq\n",
    "    - d57\n",
    "    - d58\n",
    "    - d59\n",
    "    - d60\n",
    "    - d61\n",
    "    - d62\n",
    "    - d63\n",
    "    - lwage5_17numsibs\n",
    "    - lwage5_17mhgc\n",
    "    - lwage5_17cafqt\n",
    "    - lwage5_17\n",
    "    - lurate_17\n",
    "    - lurate_17numsibs\n",
    "    - lurate_17mhgc\n",
    "    - lurate_17cafqt\n",
    "    - tuit4c\n",
    "    - tuit4cnumsibs\n",
    "    - tuit4cmhgc\n",
    "    - tuit4ccafqt\n",
    "    - pub4\n",
    "    - pub4numsibs\n",
    "    - pub4mhgc\n",
    "    - pub4cafqt\n",
    "DIST:\n",
    "    params:\n",
    "    - 0.1\n",
    "    - 0.0\n",
    "    - 0.0\n",
    "    - 0.1\n",
    "    - 0.0\n",
    "    - 1.0\n",
    "VARTYPES:\n",
    "    const: nonbinary\n",
    "SCIPY-BFGS:\n",
    "    gtol: 1.0e-05\n",
    "    eps: 1.4901161193847656e-10\n",
    "SCIPY-POWELL:\n",
    "    xtol: 0.0001\n",
    "    ftol: 0.0001"
   ]
  },
  {
   "cell_type": "markdown",
   "metadata": {},
   "source": [
    "We then conduct an estimation based on the initialization file."
   ]
  },
  {
   "cell_type": "code",
   "execution_count": 8,
   "metadata": {
    "scrolled": true
   },
   "outputs": [
    {
     "name": "stdout",
     "output_type": "stream",
     "text": [
      " \n",
      "*** Profile stats marshalled to file '/tmp/tmp8_ah89bj'. \n",
      "Embedding SnakeViz in the notebook...\n"
     ]
    },
    {
     "data": {
      "text/html": [
       "\n",
       "<iframe id='snakeviz-61095a02-8d2e-11ea-9451-3773e5e5603a' frameborder=0 seamless width='100%' height='1000'></iframe>\n",
       "<script>$(\"#snakeviz-61095a02-8d2e-11ea-9451-3773e5e5603a\").attr({src:\"http://\"+document.location.hostname+\":35731/snakeviz/%2Ftmp%2Ftmp8_ah89bj\"})</script>\n"
      ],
      "text/plain": [
       "<IPython.core.display.HTML object>"
      ]
     },
     "metadata": {},
     "output_type": "display_data"
    }
   ],
   "source": [
    "%%snakevizc\n",
    "rslt = grmpy.fit('files/replication.grmpy.yml')"
   ]
  },
  {
   "cell_type": "markdown",
   "metadata": {},
   "source": [
    "Next we plot $B^{MTE}$ based on our estimation results. As shown in the figure below the results are really close to the original results. The deviation seems to be negligible because we use a mock dataset."
   ]
  },
  {
   "cell_type": "code",
   "execution_count": 9,
   "metadata": {},
   "outputs": [
    {
     "data": {
      "image/png": "[encoded data removed]",
      "text/plain": [
       "<Figure size 1260x720 with 1 Axes>"
      ]
     },
     "metadata": {
      "needs_background": "light"
     },
     "output_type": "display_data"
    }
   ],
   "source": [
    "mte = plot_est_mte(rslt, 'files/replication.grmpy.yml')"
   ]
  },
  {
   "cell_type": "markdown",
   "metadata": {},
   "source": [
    "\n",
    "For a detailed overview on the theoretical economic background, more application examples as well as contact informations see the [online documentation](https://grmpy.readthedocs.io/en/latest/index.html). In addition, the most current code is available on [GitHub](https://github.com/OpenSourceEconomics/grmpy).\n",
    "\n",
    "\n"
   ]
  },
  {
   "cell_type": "code",
   "execution_count": null,
   "metadata": {},
   "outputs": [],
   "source": []
  }
 ],
 "metadata": {
  "kernelspec": {
   "display_name": "Python 3",
   "language": "python",
   "name": "python3"
  },
  "language_info": {
   "codemirror_mode": {
    "name": "ipython",
    "version": 3
   },
   "file_extension": ".py",
   "mimetype": "text/x-python",
   "name": "python",
   "nbconvert_exporter": "python",
   "pygments_lexer": "ipython3",
   "version": "3.6.10"
  }
 },
 "nbformat": 4,
 "nbformat_minor": 1
}
