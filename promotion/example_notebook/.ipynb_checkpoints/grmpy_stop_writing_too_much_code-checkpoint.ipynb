{
 "cells": [
  {
   "cell_type": "code",
   "execution_count": 10,
   "metadata": {},
   "outputs": [],
   "source": [
    "from grmpy.read.read import read\n",
    "import yaml\n",
    "import pprint\n",
    "import numpy as np"
   ]
  },
  {
   "cell_type": "code",
   "execution_count": 11,
   "metadata": {},
   "outputs": [
    {
     "name": "stdout",
     "output_type": "stream",
     "text": [
      "Overwriting example.ini\n"
     ]
    }
   ],
   "source": [
    "%%file example.ini\n",
    "SIMULATION\n",
    "\n",
    "    agents                      165\n",
    "    seed                       8842\n",
    "    source                     data\n",
    "    \n",
    "ESTIMATION\n",
    "\n",
    "    agents                     165\n",
    "    file                       data.grmpy.txt\n",
    "    optimizer                  SCIPY-BFGS\n",
    "    start                      init\n",
    "    maxiter                    6383\n",
    "    dependent                  Y\n",
    "    indicator                  D\n",
    "    comparison                 0\n",
    "    output_file                est.grmpy.info\n",
    "\n",
    "\n",
    "\n",
    "TREATED\n",
    "\n",
    "    coeff          x1          1.2303\n",
    "    coeff          x2         -2.3070\n",
    "\n",
    "UNTREATED\n",
    "\n",
    "    coeff          x1         -1.7192\n",
    "    coeff          x2         -1.6871\n",
    "\n",
    "CHOICE\n",
    "\n",
    "    coeff           x1         2.4869\n",
    "    coeff           x3        -0.3900\n",
    "\n",
    "DIST\n",
    "\n",
    "    coeff                    2.1559\n",
    "    coeff                   -0.2055\n",
    "    coeff                    1.6975\n",
    "    coeff                    2.8355\n",
    "    coeff                   -1.6985\n",
    "    coeff                    2.8874\n",
    "\n",
    "SCIPY-BFGS\n",
    "\n",
    "    gtol                    1.3798690190939666e-05\n",
    "    eps                     1.4901161193847655e-08\n",
    "\n",
    "SCIPY-POWELL\n",
    "\n",
    "    xtol                     9.147777614048603e-05\n",
    "    ftol 9.749582129043358e-05"
   ]
  },
  {
   "cell_type": "code",
   "execution_count": 13,
   "metadata": {},
   "outputs": [
    {
     "name": "stdout",
     "output_type": "stream",
     "text": [
      "{'AUX': {'init_values': [1.2303,\n",
      "                         -2.307,\n",
      "                         -1.7192,\n",
      "                         -1.6871,\n",
      "                         2.4869,\n",
      "                         -0.39,\n",
      "                         2.1559,\n",
      "                         -0.2055,\n",
      "                         1.6975,\n",
      "                         2.8355,\n",
      "                         -1.6985,\n",
      "                         2.8874],\n",
      "         'num_covars_cost': 2,\n",
      "         'num_covars_treated': 2,\n",
      "         'num_covars_untreated': 2,\n",
      "         'num_paras': 10,\n",
      "         'types': ['nonbinary', 'nonbinary', 'nonbinary']},\n",
      " 'CHOICE': {'all': array([ 2.4869, -0.39  ]),\n",
      "            'order': [1, 3],\n",
      "            'types': ['nonbinary', 'nonbinary']},\n",
      " 'DETERMINISTIC': False,\n",
      " 'DIST': {'all': array([ 2.1559, -0.2055,  1.6975,  2.8355, -1.6985,  2.8874])},\n",
      " 'ESTIMATION': {'agents': 165,\n",
      "                'comparison': 0,\n",
      "                'dependent': 'Y',\n",
      "                'file': 'data.grmpy.txt',\n",
      "                'indicator': 'D',\n",
      "                'maxiter': 6383,\n",
      "                'optimizer': 'SCIPY-BFGS',\n",
      "                'output_file': 'est.grmpy.info',\n",
      "                'start': 'init'},\n",
      " 'SCIPY-BFGS': {'eps': 1.4901161193847655e-08, 'gtol': 1.3798690190939666e-05},\n",
      " 'SCIPY-POWELL': {'ftol': 9.749582129043358e-05, 'xtol': 9.147777614048603e-05},\n",
      " 'SIMULATION': {'agents': 165, 'seed': 8842, 'source': 'data'},\n",
      " 'TREATED': {'all': array([ 1.2303, -2.307 ]),\n",
      "             'order': [1, 2],\n",
      "             'types': ['nonbinary', 'nonbinary']},\n",
      " 'UNTREATED': {'all': array([-1.7192, -1.6871]),\n",
      "               'order': [1, 2],\n",
      "               'types': ['nonbinary', 'nonbinary']},\n",
      " 'varnames': ['x1', 'x2', 'x3']}\n"
     ]
    }
   ],
   "source": [
    "attr_dict = read('example.ini')\n",
    "pp = pprint.PrettyPrinter()\n",
    "pp.pprint(attr_dict)"
   ]
  },
  {
   "cell_type": "code",
   "execution_count": 3,
   "metadata": {},
   "outputs": [],
   "source": [
    "# test = {'SIMULATION': {'agents': 165, 'seed': 8842, 'source': 'data'}, 'bla': [1, 2, 3]}\n",
    "# with open('bla.yaml', 'w') as y:\n",
    "    # yaml.dump(test, y, default_flow_style=False)"
   ]
  },
  {
   "cell_type": "code",
   "execution_count": 4,
   "metadata": {},
   "outputs": [
    {
     "name": "stdout",
     "output_type": "stream",
     "text": [
      "Overwriting example.yaml\n"
     ]
    }
   ],
   "source": [
    "%%file example.yaml\n",
    "SIMULATION:\n",
    "    agents: 165\n",
    "    seed: 8842\n",
    "    source: data\n",
    "\n",
    "ESTIMATION:\n",
    "    agents: 165\n",
    "    file: data.grmpy.txt\n",
    "    optimizer: SCIPY-BFGS\n",
    "    start: init\n",
    "    maxiter: 6383\n",
    "    dependent: Y\n",
    "    indicator: D\n",
    "    comparison: 0\n",
    "    output_file: est.grmpy.info\n",
    "\n",
    "TREATED:\n",
    "    names: [x1, x2]\n",
    "    params: [1.2303, -2.3070]\n",
    "\n",
    "UNTREATED:\n",
    "    names: [x1, x2]\n",
    "    params: [-1.7192, -1.6871]\n",
    "\n",
    "CHOICE:\n",
    "    names: [x1, x3]\n",
    "    params: [2.4869, -0.3900]\n",
    "        \n",
    "DIST: [2.1559, -0.2055, 1.6975, 2.8355, -1.6985, 2.8874]\n",
    "    \n",
    "SCIPY-BFGS:\n",
    "    gtol: 1.3798690190939666e-05\n",
    "    eps: 1.4901161193847655e-08\n",
    "\n",
    "SCIPY-POWELL:\n",
    "    xtol: 9.147777614048603e-05\n",
    "    ftol: 9.749582129043358e-05\n",
    "        \n",
    "VARTYPES:\n",
    "    x1: binary\n"
   ]
  },
  {
   "cell_type": "code",
   "execution_count": 14,
   "metadata": {},
   "outputs": [
    {
     "data": {
      "text/plain": [
       "{'CHOICE': {'names': ['x1', 'x3'], 'params': [2.4869, -0.39]},\n",
       " 'DIST': [2.1559, -0.2055, 1.6975, 2.8355, -1.6985, 2.8874],\n",
       " 'ESTIMATION': {'agents': 165,\n",
       "  'comparison': 0,\n",
       "  'dependent': 'Y',\n",
       "  'file': 'data.grmpy.txt',\n",
       "  'indicator': 'D',\n",
       "  'maxiter': 6383,\n",
       "  'optimizer': 'SCIPY-BFGS',\n",
       "  'output_file': 'est.grmpy.info',\n",
       "  'start': 'init'},\n",
       " 'SCIPY-BFGS': {'eps': 1.4901161193847655e-08, 'gtol': 1.3798690190939666e-05},\n",
       " 'SCIPY-POWELL': {'ftol': 9.749582129043358e-05,\n",
       "  'xtol': 9.147777614048603e-05},\n",
       " 'SIMULATION': {'agents': 165, 'seed': 8842, 'source': 'data'},\n",
       " 'TREATED': {'names': ['x1', 'x2'], 'params': [1.2303, -2.307]},\n",
       " 'UNTREATED': {'names': ['x1', 'x2'], 'params': [-1.7192, -1.6871]}}"
      ]
     },
     "execution_count": 14,
     "metadata": {},
     "output_type": "execute_result"
    }
   ],
   "source": [
    "with open('example.yaml') as y:\n",
    "    init_dict = yaml.load(y)\n",
    "init_dict"
   ]
  },
  {
   "cell_type": "code",
   "execution_count": 6,
   "metadata": {},
   "outputs": [],
   "source": [
    "def init_dict_to_attr_dict(init):\n",
    "    attr = {}\n",
    "    for key in ['TREATED', 'UNTREATED', 'CHOICE']:\n",
    "        attr[key] = {'all': np.array(init[key]['params']),\n",
    "                     'order': init[key]['names']}\n",
    "    \n",
    "    attr['DIST'] = {'all': np.array(init['DIST'])}\n",
    "    attr['DETERMINISTIC'] = (attr['DIST']['all'] == 0).all()\n",
    "\n",
    "    for key in ['ESTIMATION', 'SCIPY-BFGS', 'SCIPY-POWELL', 'SIMULATION']:\n",
    "        attr[key] = init[key]\n",
    "        \n",
    "    varnames = []\n",
    "    for key in ['TREATED', 'UNTREATED', 'CHOICE']:\n",
    "        for name in init[key]['names']:\n",
    "            if name not in varnames:\n",
    "                varnames.append(name)\n",
    "    attr['varnames'] = varnames\n",
    "    attr['AUX'] = {'init_values'} \n",
    "    \n",
    "    init_values = []\n",
    "    for key in ['TREATED', 'UNTREATED', 'CHOICE']:\n",
    "        init_values += init[key]['params']\n",
    "    init_values += init['DIST']\n",
    "    attr['AUX'] = {'init_values': init_values,\n",
    "                   'num_covars_cost': len(attr['CHOICE']['all']), # is this correct?\n",
    "                   'num_covars_treated': len(attr['TREATED']['all']),\n",
    "                   'num_covars_untreated': len(attr['UNTREATED']['all']),\n",
    "                   'num_paras': len(init_values)} # this is wrong!\n",
    "    \n",
    "    return attr"
   ]
  },
  {
   "cell_type": "code",
   "execution_count": 15,
   "metadata": {},
   "outputs": [
    {
     "name": "stdout",
     "output_type": "stream",
     "text": [
      "{'AUX': {'init_values': [1.2303,\n",
      "                         -2.307,\n",
      "                         -1.7192,\n",
      "                         -1.6871,\n",
      "                         2.4869,\n",
      "                         -0.39,\n",
      "                         2.1559,\n",
      "                         -0.2055,\n",
      "                         1.6975,\n",
      "                         2.8355,\n",
      "                         -1.6985,\n",
      "                         2.8874],\n",
      "         'num_covars_cost': 2,\n",
      "         'num_covars_treated': 2,\n",
      "         'num_covars_untreated': 2,\n",
      "         'num_paras': 12},\n",
      " 'CHOICE': {'all': array([ 2.4869, -0.39  ]), 'order': ['x1', 'x3']},\n",
      " 'DETERMINISTIC': False,\n",
      " 'DIST': {'all': array([ 2.1559, -0.2055,  1.6975,  2.8355, -1.6985,  2.8874])},\n",
      " 'ESTIMATION': {'agents': 165,\n",
      "                'comparison': 0,\n",
      "                'dependent': 'Y',\n",
      "                'file': 'data.grmpy.txt',\n",
      "                'indicator': 'D',\n",
      "                'maxiter': 6383,\n",
      "                'optimizer': 'SCIPY-BFGS',\n",
      "                'output_file': 'est.grmpy.info',\n",
      "                'start': 'init'},\n",
      " 'SCIPY-BFGS': {'eps': 1.4901161193847655e-08, 'gtol': 1.3798690190939666e-05},\n",
      " 'SCIPY-POWELL': {'ftol': 9.749582129043358e-05, 'xtol': 9.147777614048603e-05},\n",
      " 'SIMULATION': {'agents': 165, 'seed': 8842, 'source': 'data'},\n",
      " 'TREATED': {'all': array([ 1.2303, -2.307 ]), 'order': ['x1', 'x2']},\n",
      " 'UNTREATED': {'all': array([-1.7192, -1.6871]), 'order': ['x1', 'x2']},\n",
      " 'varnames': ['x1', 'x2', 'x3']}\n"
     ]
    }
   ],
   "source": [
    "pp = pprint.PrettyPrinter()\n",
    "attr2 = init_dict_to_attr_dict(init_dict)\n",
    "pp.pprint(attr2)"
   ]
  },
  {
   "cell_type": "markdown",
   "metadata": {},
   "source": [
    "# TODO\n",
    "\n",
    "- todo: add `types_` to `AUX` and `TREATED`, `UNTREATED`, `CHOICE`; \n",
    "    \n",
    "\n",
    "# Questions\n",
    "\n",
    "- Is it possible to determine the `types_` directly from the dataset instead of from the specification file? If so, I would do that because it saves all the checking.\n",
    "- What is `num_paras`? Why is it not `len(init_values)` but `num_covars_treated + num_covars_untreated + num_covars_cost + 2 + 2`)\n",
    "- What are the additional columns in coefficient lines? (type_, categories, prob). Could they be determined from the data?\n",
    "- Is `num_covars_cost` correct?\n",
    "\n",
    "# Remarks\n",
    "\n",
    "- use list and tuple unpacking\n",
    "- use meaningful names:\n",
    "    - `attr_dict` or `attributes` instead of `dict_`\n",
    "    - `line_entries` instead of `list_`\n",
    "    - `for variable in covariates:` instead of `for i in covariates:`\n",
    "- don't store redudant information (types are stored in several places; type_dict could solve that)\n",
    "- NEVER! require a user to specify redundant information (types?, coeff)\n",
    "- Try to integrate with the rest of the Python world (.yaml instead of .ini if there is no good reason for .ini)\n",
    "- pull the data loading or reading from file out of the function for better testability\n",
    "- label based is almost always better than position based; Exception: performance critical parts in numerical code"
   ]
  },
  {
   "cell_type": "code",
   "execution_count": 9,
   "metadata": {},
   "outputs": [
    {
     "name": "stdout",
     "output_type": "stream",
     "text": [
      "coeff x1 1.5\n",
      "coeff x1 1.5\n"
     ]
    }
   ],
   "source": [
    "# list unpacking example\n",
    "line_entries = ['coeff', 'x1', 1.5]\n",
    "key, name, val = line_entries[0], line_entries[1], line_entries[2]\n",
    "print(key, name, val)\n",
    "\n",
    "key_, name_ = line_entries[:2]\n",
    "print(key, name)"
   ]
  },
  {
   "cell_type": "code",
   "execution_count": null,
   "metadata": {},
   "outputs": [],
   "source": []
  },
  {
   "cell_type": "code",
   "execution_count": null,
   "metadata": {},
   "outputs": [],
   "source": []
  }
 ],
 "metadata": {
  "kernelspec": {
   "display_name": "Python [default]",
   "language": "python",
   "name": "python3"
  },
  "language_info": {
   "codemirror_mode": {
    "name": "ipython",
    "version": 3
   },
   "file_extension": ".py",
   "mimetype": "text/x-python",
   "name": "python",
   "nbconvert_exporter": "python",
   "pygments_lexer": "ipython3",
   "version": "3.6.5"
  }
 },
 "nbformat": 4,
 "nbformat_minor": 2
}
