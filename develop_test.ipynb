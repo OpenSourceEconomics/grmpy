{
 "cells": [
  {
   "cell_type": "code",
   "execution_count": 1,
   "metadata": {},
   "outputs": [
    {
     "name": "stderr",
     "output_type": "stream",
     "text": [
      "/anaconda3/lib/python3.7/site-packages/statsmodels/compat/pandas.py:49: FutureWarning: The Panel class is removed from pandas. Accessing it from the top-level namespace will also be removed in the next version\n",
      "  data_klasses = (pandas.Series, pandas.DataFrame, pandas.Panel)\n"
     ]
    }
   ],
   "source": [
    "#from grmpy.estimate.estimate_semipar import sempar_fit\n",
    "from grmpy.estimate.estimate import fit"
   ]
  },
  {
   "cell_type": "code",
   "execution_count": 2,
   "metadata": {},
   "outputs": [
    {
     "name": "stderr",
     "output_type": "stream",
     "text": [
      "/anaconda3/lib/python3.7/site-packages/linearmodels/panel/data.py:10: FutureWarning: The Panel class is removed from pandas. Accessing it from the top-level namespace will also be removed in the next version\n",
      "  from pandas import (Categorical, DataFrame, Index, MultiIndex, Panel, Series,\n"
     ]
    }
   ],
   "source": [
    "from promotion.grmpy_tutorial_notebook.auxiliary import plot_joint_distribution_unobservables\n",
    "from promotion.grmpy_tutorial_notebook.auxiliary import plot_joint_distribution_potential\n",
    "from promotion.grmpy_tutorial_notebook.auxiliary import plot_marginal_effects\n",
    "from promotion.grmpy_tutorial_notebook.auxiliary import process_data\n",
    "from promotion.grmpy_tutorial_notebook.auxiliary import plot_est_mte\n",
    "from promotion.grmpy_tutorial_notebook.auxiliary import monte_carlo\n",
    "from promotion.grmpy_tutorial_notebook.auxiliary import effects"
   ]
  },
  {
   "cell_type": "code",
   "execution_count": 29,
   "metadata": {},
   "outputs": [
    {
     "ename": "UserError",
     "evalue": "\n\n         The data file specified in your initialization file doesn`t exist.\n\n",
     "output_type": "error",
     "traceback": [
      "\u001b[0;31m---------------------------------------------------------------------------\u001b[0m",
      "\u001b[0;31mUserError\u001b[0m                                 Traceback (most recent call last)",
      "\u001b[0;32m<ipython-input-29-999361d85033>\u001b[0m in \u001b[0;36m<module>\u001b[0;34m\u001b[0m\n\u001b[0;32m----> 1\u001b[0;31m \u001b[0mrslt\u001b[0m \u001b[0;34m=\u001b[0m \u001b[0mfit\u001b[0m\u001b[0;34m(\u001b[0m\u001b[0;34m\"promotion/grmpy_tutorial_notebook/files/replication.grmpy.yml\"\u001b[0m\u001b[0;34m)\u001b[0m\u001b[0;34m\u001b[0m\u001b[0;34m\u001b[0m\u001b[0m\n\u001b[0m",
      "\u001b[0;32m~/OpenSourceEconomics/grmpy/grmpy/estimate/estimate.py\u001b[0m in \u001b[0;36mfit\u001b[0;34m(init_file, semipar)\u001b[0m\n\u001b[1;32m     21\u001b[0m \u001b[0;34m\u001b[0m\u001b[0m\n\u001b[1;32m     22\u001b[0m     \u001b[0;31m# Perform some consistency checks given the user's request\u001b[0m\u001b[0;34m\u001b[0m\u001b[0;34m\u001b[0m\u001b[0;34m\u001b[0m\u001b[0m\n\u001b[0;32m---> 23\u001b[0;31m     \u001b[0mcheck_presence_estimation_dataset\u001b[0m\u001b[0;34m(\u001b[0m\u001b[0mdict_\u001b[0m\u001b[0;34m)\u001b[0m\u001b[0;34m\u001b[0m\u001b[0;34m\u001b[0m\u001b[0m\n\u001b[0m\u001b[1;32m     24\u001b[0m     \u001b[0mcheck_initialization_dict\u001b[0m\u001b[0;34m(\u001b[0m\u001b[0mdict_\u001b[0m\u001b[0;34m)\u001b[0m\u001b[0;34m\u001b[0m\u001b[0;34m\u001b[0m\u001b[0m\n\u001b[1;32m     25\u001b[0m \u001b[0;34m\u001b[0m\u001b[0m\n",
      "\u001b[0;32m~/OpenSourceEconomics/grmpy/grmpy/check/check.py\u001b[0m in \u001b[0;36mcheck_presence_estimation_dataset\u001b[0;34m(init_dict)\u001b[0m\n\u001b[1;32m     21\u001b[0m     \u001b[0;32mif\u001b[0m \u001b[0;32mnot\u001b[0m \u001b[0mos\u001b[0m\u001b[0;34m.\u001b[0m\u001b[0mpath\u001b[0m\u001b[0;34m.\u001b[0m\u001b[0misfile\u001b[0m\u001b[0;34m(\u001b[0m\u001b[0mdata_file\u001b[0m\u001b[0;34m)\u001b[0m\u001b[0;34m:\u001b[0m\u001b[0;34m\u001b[0m\u001b[0;34m\u001b[0m\u001b[0m\n\u001b[1;32m     22\u001b[0m         \u001b[0mmsg\u001b[0m \u001b[0;34m=\u001b[0m \u001b[0;34m\"The data file specified in your initialization file doesn`t exist.\"\u001b[0m\u001b[0;34m\u001b[0m\u001b[0;34m\u001b[0m\u001b[0m\n\u001b[0;32m---> 23\u001b[0;31m         \u001b[0;32mraise\u001b[0m \u001b[0mUserError\u001b[0m\u001b[0;34m(\u001b[0m\u001b[0mmsg\u001b[0m\u001b[0;34m)\u001b[0m\u001b[0;34m\u001b[0m\u001b[0;34m\u001b[0m\u001b[0m\n\u001b[0m\u001b[1;32m     24\u001b[0m \u001b[0;34m\u001b[0m\u001b[0m\n\u001b[1;32m     25\u001b[0m \u001b[0;34m\u001b[0m\u001b[0m\n",
      "\u001b[0;31mUserError\u001b[0m: \n\n         The data file specified in your initialization file doesn`t exist.\n\n"
     ]
    }
   ],
   "source": [
    "#rslt = fit(\"promotion/grmpy_tutorial_notebook/files/replication.grmpy.yml\")"
   ]
  },
  {
   "cell_type": "code",
   "execution_count": 28,
   "metadata": {},
   "outputs": [
    {
     "ename": "UserError",
     "evalue": "\n\n         promotion/grmpy_tutorial_notebook/files/replication_grmpy.yml: There is no such file or directory.\n\n",
     "output_type": "error",
     "traceback": [
      "\u001b[0;31m---------------------------------------------------------------------------\u001b[0m",
      "\u001b[0;31mUserError\u001b[0m                                 Traceback (most recent call last)",
      "\u001b[0;32m<ipython-input-28-036a3f61209d>\u001b[0m in \u001b[0;36m<module>\u001b[0;34m\u001b[0m\n\u001b[0;32m----> 1\u001b[0;31m \u001b[0mrslt\u001b[0m \u001b[0;34m=\u001b[0m \u001b[0mfit\u001b[0m\u001b[0;34m(\u001b[0m\u001b[0;34m\"promotion/grmpy_tutorial_notebook/files/replication_grmpy.yml\"\u001b[0m\u001b[0;34m)\u001b[0m\u001b[0;34m\u001b[0m\u001b[0;34m\u001b[0m\u001b[0m\n\u001b[0m",
      "\u001b[0;32m~/OpenSourceEconomics/grmpy/grmpy/estimate/estimate.py\u001b[0m in \u001b[0;36mfit\u001b[0;34m(init_file, semipar)\u001b[0m\n\u001b[1;32m     16\u001b[0m \u001b[0;32mdef\u001b[0m \u001b[0mfit\u001b[0m\u001b[0;34m(\u001b[0m\u001b[0minit_file\u001b[0m\u001b[0;34m,\u001b[0m \u001b[0msemipar\u001b[0m\u001b[0;34m=\u001b[0m\u001b[0;32mFalse\u001b[0m\u001b[0;34m)\u001b[0m\u001b[0;34m:\u001b[0m\u001b[0;34m\u001b[0m\u001b[0;34m\u001b[0m\u001b[0m\n\u001b[1;32m     17\u001b[0m     \u001b[0;34m\"\"\" \"\"\"\u001b[0m\u001b[0;34m\u001b[0m\u001b[0;34m\u001b[0m\u001b[0m\n\u001b[0;32m---> 18\u001b[0;31m     \u001b[0mcheck_presence_init\u001b[0m\u001b[0;34m(\u001b[0m\u001b[0minit_file\u001b[0m\u001b[0;34m)\u001b[0m\u001b[0;34m\u001b[0m\u001b[0;34m\u001b[0m\u001b[0m\n\u001b[0m\u001b[1;32m     19\u001b[0m \u001b[0;34m\u001b[0m\u001b[0m\n\u001b[1;32m     20\u001b[0m     \u001b[0mdict_\u001b[0m \u001b[0;34m=\u001b[0m \u001b[0mread\u001b[0m\u001b[0;34m(\u001b[0m\u001b[0minit_file\u001b[0m\u001b[0;34m)\u001b[0m\u001b[0;34m\u001b[0m\u001b[0;34m\u001b[0m\u001b[0m\n",
      "\u001b[0;32m~/OpenSourceEconomics/grmpy/grmpy/check/check.py\u001b[0m in \u001b[0;36mcheck_presence_init\u001b[0;34m(fname)\u001b[0m\n\u001b[1;32m     13\u001b[0m     \u001b[0;32mif\u001b[0m \u001b[0;32mnot\u001b[0m \u001b[0mos\u001b[0m\u001b[0;34m.\u001b[0m\u001b[0mpath\u001b[0m\u001b[0;34m.\u001b[0m\u001b[0misfile\u001b[0m\u001b[0;34m(\u001b[0m\u001b[0mfname\u001b[0m\u001b[0;34m)\u001b[0m\u001b[0;34m:\u001b[0m\u001b[0;34m\u001b[0m\u001b[0;34m\u001b[0m\u001b[0m\n\u001b[1;32m     14\u001b[0m         \u001b[0mmsg\u001b[0m \u001b[0;34m=\u001b[0m \u001b[0;34m\"{}: There is no such file or directory.\"\u001b[0m\u001b[0;34m.\u001b[0m\u001b[0mformat\u001b[0m\u001b[0;34m(\u001b[0m\u001b[0mfname\u001b[0m\u001b[0;34m)\u001b[0m\u001b[0;34m\u001b[0m\u001b[0;34m\u001b[0m\u001b[0m\n\u001b[0;32m---> 15\u001b[0;31m         \u001b[0;32mraise\u001b[0m \u001b[0mUserError\u001b[0m\u001b[0;34m(\u001b[0m\u001b[0mmsg\u001b[0m\u001b[0;34m)\u001b[0m\u001b[0;34m\u001b[0m\u001b[0;34m\u001b[0m\u001b[0m\n\u001b[0m\u001b[1;32m     16\u001b[0m \u001b[0;34m\u001b[0m\u001b[0m\n\u001b[1;32m     17\u001b[0m \u001b[0;34m\u001b[0m\u001b[0m\n",
      "\u001b[0;31mUserError\u001b[0m: \n\n         promotion/grmpy_tutorial_notebook/files/replication_grmpy.yml: There is no such file or directory.\n\n"
     ]
    }
   ],
   "source": [
    "#rslt = fit(\"promotion/grmpy_tutorial_notebook/files/replication_grmpy.yml\")"
   ]
  },
  {
   "cell_type": "code",
   "execution_count": 6,
   "metadata": {},
   "outputs": [
    {
     "name": "stderr",
     "output_type": "stream",
     "text": [
      "/Users/sebastiangsell/OpenSourceEconomics/grmpy/grmpy/read/read.py:17: YAMLLoadWarning: calling yaml.load() without Loader=... is deprecated, as the default Loader is unsafe. Please read https://msg.pyyaml.org/load for full details.\n",
      "  init_dict = yaml.load(y)\n"
     ]
    },
    {
     "name": "stdout",
     "output_type": "stream",
     "text": [
      "                           Logit Regression Results                           \n",
      "==============================================================================\n",
      "Dep. Variable:                      y   No. Observations:                 1747\n",
      "Model:                          Logit   Df Residuals:                     1717\n",
      "Method:                           MLE   Df Model:                           29\n",
      "Date:                Thu, 16 Jan 2020   Pseudo R-squ.:                  0.2858\n",
      "Time:                        01:06:26   Log-Likelihood:                -864.74\n",
      "converged:                       True   LL-Null:                       -1210.8\n",
      "                                        LLR p-value:                4.178e-127\n",
      "====================================================================================\n",
      "                       coef    std err          z      P>|z|      [0.025      0.975]\n",
      "------------------------------------------------------------------------------------\n",
      "const              288.3699    151.012      1.910      0.056      -7.609     584.349\n",
      "cafqt               -6.4256      5.019     -1.280      0.200     -16.263       3.411\n",
      "cafqtsq              0.3348      0.072      4.665      0.000       0.194       0.476\n",
      "mhgc                -0.2733      2.146     -0.127      0.899      -4.480       3.933\n",
      "mhgcsq               0.0180      0.007      2.624      0.009       0.005       0.031\n",
      "numsibs             -0.4059      2.403     -0.169      0.866      -5.116       4.304\n",
      "numsibssq            0.0012      0.011      0.104      0.917      -0.021       0.024\n",
      "urban14              0.3387      0.140      2.418      0.016       0.064       0.613\n",
      "lavlocwage17       -54.1077     29.111     -1.859      0.063    -111.164       2.948\n",
      "lavlocwage17sq       2.6770      1.420      1.885      0.059      -0.107       5.461\n",
      "avurate             -0.0936      0.633     -0.148      0.882      -1.334       1.146\n",
      "avuratesq            0.0139      0.049      0.286      0.775      -0.081       0.109\n",
      "d57                  0.3166      0.251      1.262      0.207      -0.175       0.808\n",
      "d58                  0.3065      0.253      1.214      0.225      -0.189       0.802\n",
      "d59                 -0.2110      0.251     -0.840      0.401      -0.703       0.281\n",
      "d60                  0.0341      0.237      0.144      0.886      -0.430       0.498\n",
      "d61                  0.0863      0.238      0.362      0.717      -0.381       0.553\n",
      "d62                  0.2900      0.224      1.293      0.196      -0.150       0.730\n",
      "d63                 -0.0237      0.239     -0.099      0.921      -0.492       0.444\n",
      "lwage5_17numsibs     0.0170      0.237      0.072      0.943      -0.448       0.482\n",
      "lwage5_17mhgc        0.0050      0.214      0.023      0.981      -0.414       0.424\n",
      "lwage5_17cafqt       0.7582      0.498      1.521      0.128      -0.219       1.735\n",
      "lwage5_17           -1.5203      2.738     -0.555      0.579      -6.887       3.846\n",
      "lurate_17           -0.1394      0.248     -0.563      0.573      -0.625       0.346\n",
      "lurate_17numsibs    -0.0028      0.020     -0.140      0.888      -0.042       0.037\n",
      "lurate_17mhgc        0.0074      0.019      0.386      0.700      -0.030       0.045\n",
      "lurate_17cafqt      -0.0174      0.044     -0.394      0.693      -0.104       0.069\n",
      "tuit4c               0.0114      0.060      0.191      0.849      -0.105       0.128\n",
      "tuit4cnumsibs        0.0039      0.005      0.806      0.420      -0.006       0.013\n",
      "tuit4cmhgc          -0.0008      0.005     -0.167      0.867      -0.010       0.008\n",
      "tuit4ccafqt         -0.0041      0.010     -0.398      0.690      -0.024       0.016\n",
      "pub4                 0.4641      0.873      0.532      0.595      -1.247       2.175\n",
      "pub4numsibs          0.0451      0.074      0.611      0.541      -0.100       0.190\n",
      "pub4mhgc            -0.0408      0.069     -0.594      0.553      -0.176       0.094\n",
      "pub4cafqt           -0.0164      0.164     -0.100      0.920      -0.338       0.305\n",
      "====================================================================================\n",
      "\n",
      "    Common support lies beteen:\n",
      "\n",
      "        0.053615848983571426 and\n",
      "        0.9670786072336038\n",
      "                            OLS Regression Results                            \n",
      "==============================================================================\n",
      "Dep. Variable:                      y   R-squared:                       0.077\n",
      "Model:                            OLS   Adj. R-squared:                  0.052\n",
      "Method:                 Least Squares   F-statistic:                     3.079\n",
      "Date:                Thu, 16 Jan 2020   Prob (F-statistic):           1.09e-10\n",
      "Time:                        01:06:26   Log-Likelihood:                -978.64\n",
      "No. Observations:                1659   AIC:                             2045.\n",
      "Df Residuals:                    1615   BIC:                             2283.\n",
      "Df Model:                          44                                         \n",
      "Covariance Type:            nonrobust                                         \n",
      "=====================================================================================\n",
      "                        coef    std err          t      P>|t|      [0.025      0.975]\n",
      "-------------------------------------------------------------------------------------\n",
      "const              -1.25e-12   3.24e-12     -0.386      0.699    -7.6e-12     5.1e-12\n",
      "exp                  -0.0061      0.032     -0.190      0.850      -0.069       0.057\n",
      "expsq                 0.0036      0.002      1.940      0.053   -4.09e-05       0.007\n",
      "lwage5                0.3281      0.171      1.919      0.055      -0.007       0.663\n",
      "lurate               -0.0279      0.023     -1.239      0.216      -0.072       0.016\n",
      "cafqt                 0.0169      0.152      0.111      0.912      -0.281       0.315\n",
      "cafqtsq              -0.0263      0.054     -0.487      0.626      -0.132       0.080\n",
      "mhgc                 -0.1185      0.060     -1.987      0.047      -0.235      -0.002\n",
      "mhgcsq                0.0057      0.003      1.719      0.086      -0.001       0.012\n",
      "numsibs               0.0387      0.039      0.988      0.323      -0.038       0.116\n",
      "numsibssq            -0.0032      0.004     -0.788      0.431      -0.011       0.005\n",
      "urban14               0.0554      0.059      0.943      0.346      -0.060       0.171\n",
      "lavlocwage17         -6.7889     12.889     -0.527      0.598     -32.070      18.493\n",
      "lavlocwage17sq        0.3212      0.629      0.511      0.610      -0.913       1.555\n",
      "avurate               0.3364      0.236      1.428      0.154      -0.126       0.798\n",
      "avuratesq            -0.0242      0.018     -1.339      0.181      -0.060       0.011\n",
      "d57                  -0.3912      0.127     -3.072      0.002      -0.641      -0.141\n",
      "d58                  -0.1951      0.125     -1.555      0.120      -0.441       0.051\n",
      "d59                  -0.1554      0.100     -1.561      0.119      -0.351       0.040\n",
      "d60                  -0.1414      0.093     -1.519      0.129      -0.324       0.041\n",
      "d61                  -0.0852      0.091     -0.938      0.349      -0.263       0.093\n",
      "d62                  -0.0729      0.088     -0.826      0.409      -0.246       0.100\n",
      "d63                  -0.0315      0.085     -0.371      0.710      -0.198       0.135\n",
      "const_ps          -4.115e-14   1.95e-13     -0.210      0.833   -4.25e-13    3.42e-13\n",
      "exp_ps                0.1174      0.050      2.361      0.018       0.020       0.215\n",
      "expsq_ps             -0.0116      0.003     -3.789      0.000      -0.018      -0.006\n",
      "lwage5_ps            -0.7168      0.297     -2.414      0.016      -1.299      -0.134\n",
      "lurate_ps             0.0284      0.041      0.685      0.494      -0.053       0.110\n",
      "cafqt_ps              0.1328      0.393      0.338      0.735      -0.638       0.904\n",
      "cafqtsq_ps            0.0757      0.115      0.658      0.511      -0.150       0.302\n",
      "mhgc_ps               0.2407      0.138      1.744      0.081      -0.030       0.511\n",
      "mhgcsq_ps            -0.0095      0.007     -1.383      0.167      -0.023       0.004\n",
      "numsibs_ps           -0.0789      0.080     -0.992      0.321      -0.235       0.077\n",
      "numsibssq_ps          0.0070      0.009      0.805      0.421      -0.010       0.024\n",
      "urban14_ps            0.0360      0.123      0.293      0.769      -0.205       0.277\n",
      "lavlocwage17_ps       9.1985     23.452      0.392      0.695     -36.800      55.197\n",
      "lavlocwage17sq_ps    -0.4198      1.146     -0.366      0.714      -2.668       1.829\n",
      "avurate_ps           -0.3721      0.452     -0.823      0.411      -1.259       0.515\n",
      "avuratesq_ps          0.0270      0.035      0.770      0.442      -0.042       0.096\n",
      "d57_ps                1.0237      0.227      4.513      0.000       0.579       1.469\n",
      "d58_ps                0.6714      0.217      3.095      0.002       0.246       1.097\n",
      "d59_ps                0.3508      0.183      1.919      0.055      -0.008       0.709\n",
      "d60_ps                0.4781      0.169      2.838      0.005       0.148       0.809\n",
      "d61_ps                0.2989      0.161      1.852      0.064      -0.018       0.615\n",
      "d62_ps                0.2595      0.166      1.561      0.119      -0.066       0.585\n",
      "d63_ps                0.2084      0.152      1.374      0.170      -0.089       0.506\n",
      "==============================================================================\n",
      "Omnibus:                       64.414   Durbin-Watson:                   2.065\n",
      "Prob(Omnibus):                  0.000   Jarque-Bera (JB):              146.286\n",
      "Skew:                          -0.212   Prob(JB):                     1.72e-32\n",
      "Kurtosis:                       4.392   Cond. No.                     1.19e+16\n",
      "==============================================================================\n",
      "\n",
      "Warnings:\n",
      "[1] Standard Errors assume that the covariance matrix of the errors is correctly specified.\n",
      "[2] The smallest eigenvalue is 4.67e-26. This might indicate that there are\n",
      "strong multicollinearity problems or that the design matrix is singular.\n"
     ]
    },
    {
     "data": {
      "image/png": "[encoded data removed]",
      "text/plain": [
       "<Figure size 720x432 with 1 Axes>"
      ]
     },
     "metadata": {
      "needs_background": "light"
     },
     "output_type": "display_data"
    }
   ],
   "source": [
    "rslt = fit(\"replication_grmpy_semipar.yml\", semipar=True)"
   ]
  },
  {
   "cell_type": "code",
   "execution_count": null,
   "metadata": {},
   "outputs": [],
   "source": []
  },
  {
   "cell_type": "code",
   "execution_count": 32,
   "metadata": {},
   "outputs": [
    {
     "ename": "FileNotFoundError",
     "evalue": "[Errno 2] No such file or directory: 'data/mte_original.json'",
     "output_type": "error",
     "traceback": [
      "\u001b[0;31m---------------------------------------------------------------------------\u001b[0m",
      "\u001b[0;31mFileNotFoundError\u001b[0m                         Traceback (most recent call last)",
      "\u001b[0;32m<ipython-input-32-e34c995dea46>\u001b[0m in \u001b[0;36m<module>\u001b[0;34m\u001b[0m\n\u001b[0;32m----> 1\u001b[0;31m \u001b[0mmte\u001b[0m \u001b[0;34m=\u001b[0m \u001b[0mplot_est_mte\u001b[0m\u001b[0;34m(\u001b[0m\u001b[0mrslt\u001b[0m\u001b[0;34m,\u001b[0m \u001b[0;34m\"replication_grmpy.yml\"\u001b[0m\u001b[0;34m)\u001b[0m\u001b[0;34m\u001b[0m\u001b[0;34m\u001b[0m\u001b[0m\n\u001b[0m",
      "\u001b[0;32m~/OpenSourceEconomics/grmpy/promotion/grmpy_tutorial_notebook/auxiliary.py\u001b[0m in \u001b[0;36mplot_est_mte\u001b[0;34m(rslt, file)\u001b[0m\n\u001b[1;32m    299\u001b[0m     \u001b[0;31m# Define the Quantiles and read in the original results\u001b[0m\u001b[0;34m\u001b[0m\u001b[0;34m\u001b[0m\u001b[0;34m\u001b[0m\u001b[0m\n\u001b[1;32m    300\u001b[0m     \u001b[0mquantiles\u001b[0m \u001b[0;34m=\u001b[0m \u001b[0;34m[\u001b[0m\u001b[0;36m0.0001\u001b[0m\u001b[0;34m]\u001b[0m \u001b[0;34m+\u001b[0m \u001b[0mnp\u001b[0m\u001b[0;34m.\u001b[0m\u001b[0marange\u001b[0m\u001b[0;34m(\u001b[0m\u001b[0;36m0.01\u001b[0m\u001b[0;34m,\u001b[0m \u001b[0;36m1.0\u001b[0m\u001b[0;34m,\u001b[0m \u001b[0;36m0.01\u001b[0m\u001b[0;34m)\u001b[0m\u001b[0;34m.\u001b[0m\u001b[0mtolist\u001b[0m\u001b[0;34m(\u001b[0m\u001b[0;34m)\u001b[0m \u001b[0;34m+\u001b[0m \u001b[0;34m[\u001b[0m\u001b[0;36m0.9999\u001b[0m\u001b[0;34m]\u001b[0m\u001b[0;34m\u001b[0m\u001b[0;34m\u001b[0m\u001b[0m\n\u001b[0;32m--> 301\u001b[0;31m     \u001b[0mmte_\u001b[0m \u001b[0;34m=\u001b[0m \u001b[0mjson\u001b[0m\u001b[0;34m.\u001b[0m\u001b[0mload\u001b[0m\u001b[0;34m(\u001b[0m\u001b[0mopen\u001b[0m\u001b[0;34m(\u001b[0m\u001b[0;34m\"data/mte_original.json\"\u001b[0m\u001b[0;34m,\u001b[0m \u001b[0;34m\"r\"\u001b[0m\u001b[0;34m)\u001b[0m\u001b[0;34m)\u001b[0m\u001b[0;34m\u001b[0m\u001b[0;34m\u001b[0m\u001b[0m\n\u001b[0m\u001b[1;32m    302\u001b[0m     \u001b[0mmte_original\u001b[0m \u001b[0;34m=\u001b[0m \u001b[0mmte_\u001b[0m\u001b[0;34m[\u001b[0m\u001b[0;36m1\u001b[0m\u001b[0;34m]\u001b[0m\u001b[0;34m\u001b[0m\u001b[0;34m\u001b[0m\u001b[0m\n\u001b[1;32m    303\u001b[0m     \u001b[0mmte_original_d\u001b[0m \u001b[0;34m=\u001b[0m \u001b[0mmte_\u001b[0m\u001b[0;34m[\u001b[0m\u001b[0;36m0\u001b[0m\u001b[0;34m]\u001b[0m\u001b[0;34m\u001b[0m\u001b[0;34m\u001b[0m\u001b[0m\n",
      "\u001b[0;31mFileNotFoundError\u001b[0m: [Errno 2] No such file or directory: 'data/mte_original.json'"
     ]
    }
   ],
   "source": [
    "#mte = plot_est_mte(rslt, \"replication_grmpy.yml\")"
   ]
  },
  {
   "cell_type": "code",
   "execution_count": null,
   "metadata": {},
   "outputs": [],
   "source": []
  }
 ],
 "metadata": {
  "kernelspec": {
   "display_name": "Python 3",
   "language": "python",
   "name": "python3"
  },
  "language_info": {
   "codemirror_mode": {
    "name": "ipython",
    "version": 3
   },
   "file_extension": ".py",
   "mimetype": "text/x-python",
   "name": "python",
   "nbconvert_exporter": "python",
   "pygments_lexer": "ipython3",
   "version": "3.7.3"
  }
 },
 "nbformat": 4,
 "nbformat_minor": 2
}
